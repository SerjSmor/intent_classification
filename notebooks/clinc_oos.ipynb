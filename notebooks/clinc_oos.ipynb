{
 "cells": [
  {
   "cell_type": "code",
   "execution_count": 20,
   "id": "e1176e1d-9756-4d27-8b40-78ca3028bfab",
   "metadata": {},
   "outputs": [
    {
     "data": {
      "text/plain": [
       "DatasetDict({\n",
       "    train: Dataset({\n",
       "        features: ['text', 'intent'],\n",
       "        num_rows: 7600\n",
       "    })\n",
       "    validation: Dataset({\n",
       "        features: ['text', 'intent'],\n",
       "        num_rows: 3100\n",
       "    })\n",
       "    test: Dataset({\n",
       "        features: ['text', 'intent'],\n",
       "        num_rows: 5500\n",
       "    })\n",
       "})"
      ]
     },
     "execution_count": 20,
     "metadata": {},
     "output_type": "execute_result"
    }
   ],
   "source": [
    "import pandas as pd\n",
    "from datasets import load_dataset\n",
    "from app.clinc_oos.utils import CLINC_OOS_INTENT_MAPPING as intent_mapping\n",
    "dataset = load_dataset(\"clinc_oos\", \"small\")\n",
    "dataset"
   ]
  },
  {
   "cell_type": "code",
   "execution_count": 14,
   "id": "a9e30ee5-b0c9-4edc-b455-ed4ade00cd07",
   "metadata": {},
   "outputs": [
    {
     "data": {
      "text/plain": [
       "('how would they say butter in zambia', 'translate', 61)"
      ]
     },
     "execution_count": 14,
     "metadata": {},
     "output_type": "execute_result"
    }
   ],
   "source": [
    "dataset[\"test\"][2][\"text\"], intent_mapping[str(dataset[\"test\"][2][\"intent\"])], dataset[\"test\"][2][\"intent\"]"
   ]
  },
  {
   "cell_type": "code",
   "execution_count": 13,
   "id": "e2d93f93-f57d-4af2-bf89-a84295a13924",
   "metadata": {},
   "outputs": [
    {
     "data": {
      "text/plain": [
       "['restaurant_reviews',\n",
       " 'nutrition_info',\n",
       " 'account_blocked',\n",
       " 'oil_change_how',\n",
       " 'time',\n",
       " 'weather',\n",
       " 'redeem_rewards',\n",
       " 'interest_rate',\n",
       " 'gas_type',\n",
       " 'accept_reservations',\n",
       " 'smart_home',\n",
       " 'user_name',\n",
       " 'report_lost_card',\n",
       " 'repeat',\n",
       " 'whisper_mode',\n",
       " 'what_are_your_hobbies',\n",
       " 'order',\n",
       " 'jump_start',\n",
       " 'schedule_meeting',\n",
       " 'meeting_schedule',\n",
       " 'freeze_account',\n",
       " 'what_song',\n",
       " 'meaning_of_life',\n",
       " 'restaurant_reservation',\n",
       " 'traffic',\n",
       " 'make_call',\n",
       " 'text',\n",
       " 'bill_balance',\n",
       " 'improve_credit_score',\n",
       " 'change_language',\n",
       " 'no',\n",
       " 'measurement_conversion',\n",
       " 'timer',\n",
       " 'flip_coin',\n",
       " 'do_you_have_pets',\n",
       " 'balance',\n",
       " 'tell_joke',\n",
       " 'last_maintenance',\n",
       " 'exchange_rate',\n",
       " 'uber',\n",
       " 'car_rental',\n",
       " 'credit_limit',\n",
       " 'oos',\n",
       " 'shopping_list',\n",
       " 'expiration_date',\n",
       " 'routing',\n",
       " 'meal_suggestion',\n",
       " 'tire_change',\n",
       " 'todo_list',\n",
       " 'card_declined',\n",
       " 'rewards_balance',\n",
       " 'change_accent',\n",
       " 'vaccines',\n",
       " 'reminder_update',\n",
       " 'food_last',\n",
       " 'change_ai_name',\n",
       " 'bill_due',\n",
       " 'who_do_you_work_for',\n",
       " 'share_location',\n",
       " 'international_visa',\n",
       " 'calendar',\n",
       " 'translate',\n",
       " 'carry_on',\n",
       " 'book_flight',\n",
       " 'insurance_change',\n",
       " 'todo_list_update',\n",
       " 'timezone',\n",
       " 'cancel_reservation',\n",
       " 'transactions',\n",
       " 'credit_score',\n",
       " 'report_fraud',\n",
       " 'spending_history',\n",
       " 'directions',\n",
       " 'spelling',\n",
       " 'insurance',\n",
       " 'what_is_your_name',\n",
       " 'reminder',\n",
       " 'where_are_you_from',\n",
       " 'distance',\n",
       " 'payday',\n",
       " 'flight_status',\n",
       " 'find_phone',\n",
       " 'greeting',\n",
       " 'alarm',\n",
       " 'order_status',\n",
       " 'confirm_reservation',\n",
       " 'cook_time',\n",
       " 'damaged_card',\n",
       " 'reset_settings',\n",
       " 'pin_change',\n",
       " 'replacement_card_duration',\n",
       " 'new_card',\n",
       " 'roll_dice',\n",
       " 'income',\n",
       " 'taxes',\n",
       " 'date',\n",
       " 'who_made_you',\n",
       " 'pto_request',\n",
       " 'tire_pressure',\n",
       " 'how_old_are_you',\n",
       " 'rollover_401k',\n",
       " 'pto_request_status',\n",
       " 'how_busy',\n",
       " 'application_status',\n",
       " 'recipe',\n",
       " 'calendar_update',\n",
       " 'play_music',\n",
       " \"'yes'\",\n",
       " 'direct_deposit',\n",
       " 'credit_limit_change',\n",
       " 'gas',\n",
       " 'pay_bill',\n",
       " 'ingredients_list',\n",
       " 'lost_luggage',\n",
       " 'goodbye',\n",
       " 'what_can_i_ask_you',\n",
       " 'book_hotel',\n",
       " 'are_you_a_bot',\n",
       " 'next_song',\n",
       " 'change_speed',\n",
       " 'plug_type',\n",
       " 'maybe',\n",
       " 'w2',\n",
       " 'oil_change_when',\n",
       " 'thank_you',\n",
       " 'shopping_list_update',\n",
       " 'pto_balance',\n",
       " 'order_checks',\n",
       " 'travel_alert',\n",
       " 'fun_fact',\n",
       " 'sync_device',\n",
       " 'schedule_maintenance',\n",
       " 'apr',\n",
       " 'transfer',\n",
       " 'ingredient_substitution',\n",
       " 'calories',\n",
       " 'current_location',\n",
       " 'international_fees',\n",
       " 'calculator',\n",
       " 'definition',\n",
       " 'next_holiday',\n",
       " 'update_playlist',\n",
       " 'mpg',\n",
       " 'min_payment',\n",
       " 'change_user_name',\n",
       " 'restaurant_suggestion',\n",
       " 'travel_notification',\n",
       " 'cancel',\n",
       " 'pto_used',\n",
       " 'travel_suggestion',\n",
       " 'change_volume']"
      ]
     },
     "execution_count": 13,
     "metadata": {},
     "output_type": "execute_result"
    }
   ],
   "source": [
    "intent_mapping_list = list(intent_mapping.values())"
   ]
  },
  {
   "cell_type": "code",
   "execution_count": 25,
   "id": "c40e4329-6c27-4235-8805-ffb1b087fc70",
   "metadata": {},
   "outputs": [
    {
     "name": "stdout",
     "output_type": "stream",
     "text": [
      "2050\n",
      "[{'sample_text': 'volume to whisper voice', 'class': 'whisper_mode', 'class number': 14}, {'sample_text': 'i want whisper mode to be switched off', 'class': 'whisper_mode', 'class number': 14}, {'sample_text': \"let's switch out of whisper mode\", 'class': 'whisper_mode', 'class number': 14}, {'sample_text': 'i want your setting adjusted to whisper voice now', 'class': 'whisper_mode', 'class number': 14}, {'sample_text': 'go into whisper mode now please', 'class': 'whisper_mode', 'class number': 14}, {'sample_text': 'turn up your volume', 'class': 'whisper_mode', 'class number': 14}, {'sample_text': 'exit out of whisper mode', 'class': 'whisper_mode', 'class number': 14}, {'sample_text': 'go back to normal mode please', 'class': 'whisper_mode', 'class number': 14}, {'sample_text': 'immediately begin using whisper mode', 'class': 'whisper_mode', 'class number': 14}, {'sample_text': 'switch over to whisper', 'class': 'whisper_mode', 'class number': 14}]\n"
     ]
    }
   ],
   "source": [
    "# lets create 5 dataset, each will contain 30 classes\n",
    "min_class_index = 0\n",
    "max_class_index = 40\n",
    "results = []\n",
    "for row in dataset[\"train\"]:\n",
    "    if row[\"intent\"] >= min_class_index and row[\"intent\"] <= max_class_index:\n",
    "        results.append({\"sample_text\": row[\"text\"], \"class\": intent_mapping[str(row[\"intent\"])], \"class number\": row[\"intent\"]})\n",
    "\n",
    "print(len(results))\n",
    "print(results[0:10])\n",
    "df = pd.DataFrame(results)"
   ]
  },
  {
   "cell_type": "code",
   "execution_count": 29,
   "id": "94762b63-301b-40a0-97f7-27eb23cd6640",
   "metadata": {},
   "outputs": [
    {
     "name": "stdout",
     "output_type": "stream",
     "text": [
      "738 738\n"
     ]
    }
   ],
   "source": [
    "classes = df[\"class\"].unique().tolist()\n",
    "sampled_df_all = pd.DataFrame()\n",
    "sample_size = 18\n",
    "examples = []\n",
    "for klass in classes:\n",
    "    curr_df = df[df[\"class\"] == klass] \n",
    "    sampled_df = curr_df.sample(sample_size)\n",
    "    for index, row in sampled_df.iterrows():\n",
    "        examples.append({\"sample_text\": row[\"sample_text\"], \"class\": row[\"class\"], \"class number\": row[\"class number\"]})\n",
    "    sampled_df_all = pd.concat([sampled_df, sampled_df_all])\n",
    "print(sampled_df_all.shape[0], len(examples))"
   ]
  },
  {
   "cell_type": "code",
   "execution_count": 31,
   "id": "3243453d-f5b9-495b-94d4-38922ce2f597",
   "metadata": {},
   "outputs": [],
   "source": [
    "intent_classifier_dataset = {\n",
    "    \"Company Name\": \"Regular company\",\n",
    "    \"Taxonomy\": {},\n",
    "    \"Examples\": examples\n",
    "}\n",
    "import json\n",
    "with open('data/first_41_classes_clinc_oos.json', 'w') as fp:\n",
    "    json.dump(intent_classifier_dataset, fp)"
   ]
  }
 ],
 "metadata": {
  "kernelspec": {
   "display_name": "Python 3 (ipykernel)",
   "language": "python",
   "name": "python3"
  },
  "language_info": {
   "codemirror_mode": {
    "name": "ipython",
    "version": 3
   },
   "file_extension": ".py",
   "mimetype": "text/x-python",
   "name": "python",
   "nbconvert_exporter": "python",
   "pygments_lexer": "ipython3",
   "version": "3.10.12"
  }
 },
 "nbformat": 4,
 "nbformat_minor": 5
}
