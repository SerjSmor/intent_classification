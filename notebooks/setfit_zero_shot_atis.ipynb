{
 "cells": [
  {
   "cell_type": "code",
   "execution_count": 1,
   "id": "1744c093-de97-441e-8dc9-85b9d01ce9ca",
   "metadata": {},
   "outputs": [],
   "source": [
    "import transformers\n",
    "import pandas as pd\n",
    "\n",
    "from datasets import load_dataset\n",
    "from app.model import IntentClassifier\n",
    "\n",
    "\n",
    "dataset = load_dataset(\"tuetschek/atis\")"
   ]
  },
  {
   "cell_type": "code",
   "execution_count": 2,
   "id": "cfa03197-5076-457f-add3-93d1bb4cb899",
   "metadata": {},
   "outputs": [
    {
     "data": {
      "text/plain": [
       "{'abbreviation': 'Abbreviation and Fare Code Meaning Inquiry',\n",
       " 'aircraft': 'Aircraft Type Inquiry',\n",
       " 'airfare': 'Airfare Information Requests',\n",
       " 'airline': 'Airline Information Request',\n",
       " 'airport': 'Airport Information and Queries',\n",
       " 'capacity': 'Aircraft Seating Capacity Inquiry',\n",
       " 'cheapest': 'Cheapest Fare Inquiry',\n",
       " 'city': 'Airport Location Inquiry',\n",
       " 'distance': 'Airport Distance Inquiry',\n",
       " 'flight': 'Flight Booking Request',\n",
       " 'flight_no': 'Flight Number Inquiry',\n",
       " 'flight_time': 'Flight Schedule Inquiry',\n",
       " 'ground_fare': 'Ground Transportation Cost Inquiry',\n",
       " 'ground_service': 'Ground Transportation Inquiry',\n",
       " 'ground_service+ground_fare': 'Airport Ground Transportation and Cost Query',\n",
       " 'meal': 'Inquiry about In-flight Meals',\n",
       " 'quantity': 'Flight Quantity Inquiry',\n",
       " 'restriction': 'Flight Restriction Inquiry'}"
      ]
     },
     "execution_count": 2,
     "metadata": {},
     "output_type": "execute_result"
    }
   ],
   "source": [
    "from app.atis.utils import ATIS_INTENT_MAPPING as intent_mapping\n",
    "intent_mapping"
   ]
  },
  {
   "cell_type": "code",
   "execution_count": 35,
   "id": "97138c67-6c28-43a2-b936-50a2fb325e46",
   "metadata": {},
   "outputs": [
    {
     "name": "stderr",
     "output_type": "stream",
     "text": [
      "100%|████████████████████████████████████████████████████████████████████████████████████████████████████████████████| 893/893 [00:00<00:00, 48588.76it/s]\n"
     ]
    },
    {
     "data": {
      "text/plain": [
       "{'id': 0,\n",
       " 'intent': 'flight',\n",
       " 'text': 'i would like to find a flight from charlotte to las vegas that makes a stop in st. louis',\n",
       " 'slots': 'O O O O O O O O B-fromloc.city_name O B-toloc.city_name I-toloc.city_name O O O O O B-stoploc.city_name I-stoploc.city_name'}"
      ]
     },
     "execution_count": 35,
     "metadata": {},
     "output_type": "execute_result"
    }
   ],
   "source": [
    "from tqdm import tqdm\n",
    "import datasets\n",
    "\n",
    "results = []\n",
    "test_set = []\n",
    "clean_test_set = []\n",
    "\n",
    "labels = list(intent_mapping.values())\n",
    "label_to_id = {}\n",
    "for i in range(len(labels)):\n",
    "    label_to_id[labels[i]] = i\n",
    "    \n",
    "for row in tqdm(dataset[\"test\"]):\n",
    "    intent = row[\"intent\"] \n",
    "    if intent not in intent_mapping:\n",
    "        continue \n",
    "    # row[\"intent\"] = intent_mapping[row[\"intent\"]]\n",
    "    test_set.append(row)\n",
    "    new_name = intent_mapping[row[\"intent\"]]\n",
    "    clean_test_set.append({\"label\": label_to_id[new_name], \"text\": row[\"text\"]})\n",
    "\n",
    "test_dataset = datasets.Dataset.from_pandas(pd.DataFrame(data=clean_test_set))\n",
    "test_set[0]"
   ]
  },
  {
   "cell_type": "markdown",
   "id": "ca52d0c6-f172-42c6-ad52-00a29cc0b024",
   "metadata": {},
   "source": [
    "## Train Setfit Zero shot \n"
   ]
  },
  {
   "cell_type": "code",
   "execution_count": 36,
   "id": "16f20f5f-02f5-4934-aa7e-755467359afd",
   "metadata": {},
   "outputs": [
    {
     "name": "stdout",
     "output_type": "stream",
     "text": [
      "['Abbreviation and Fare Code Meaning Inquiry', 'Aircraft Type Inquiry', 'Airfare Information Requests', 'Airline Information Request', 'Airport Information and Queries', 'Aircraft Seating Capacity Inquiry', 'Cheapest Fare Inquiry', 'Airport Location Inquiry', 'Airport Distance Inquiry', 'Flight Booking Request', 'Flight Number Inquiry', 'Flight Schedule Inquiry', 'Ground Transportation Cost Inquiry', 'Ground Transportation Inquiry', 'Airport Ground Transportation and Cost Query', 'Inquiry about In-flight Meals', 'Flight Quantity Inquiry', 'Flight Restriction Inquiry']\n",
      "{'text': 'This sentence is Abbreviation and Fare Code Meaning Inquiry', 'label': 0}\n"
     ]
    }
   ],
   "source": [
    "from setfit import get_templated_dataset\n",
    "\n",
    "print(labels)\n",
    "train_dataset = get_templated_dataset(candidate_labels=labels, sample_size=8)\n",
    "print(train_dataset[0])\n",
    "\n"
   ]
  },
  {
   "cell_type": "code",
   "execution_count": 37,
   "id": "5f64a84b-6be2-4dde-bb92-9f129d3f55fb",
   "metadata": {},
   "outputs": [
    {
     "name": "stderr",
     "output_type": "stream",
     "text": [
      "model_head.pkl not found on HuggingFace Hub, initialising classification head with random weights. You should TRAIN this model on a downstream task to use it for predictions and inference.\n"
     ]
    },
    {
     "data": {
      "application/vnd.jupyter.widget-view+json": {
       "model_id": "7d6c56586047466596f8a9d09bd08288",
       "version_major": 2,
       "version_minor": 0
      },
      "text/plain": [
       "Map:   0%|          | 0/144 [00:00<?, ? examples/s]"
      ]
     },
     "metadata": {},
     "output_type": "display_data"
    },
    {
     "name": "stderr",
     "output_type": "stream",
     "text": [
      "***** Running training *****\n",
      "  Num unique pairs = 19584\n",
      "  Batch size = 32\n",
      "  Num epochs = 1\n",
      "  Total optimization steps = 612\n"
     ]
    },
    {
     "data": {
      "text/html": [
       "\n",
       "    <div>\n",
       "      \n",
       "      <progress value='612' max='612' style='width:300px; height:20px; vertical-align: middle;'></progress>\n",
       "      [612/612 00:24, Epoch 1/0]\n",
       "    </div>\n",
       "    <table border=\"1\" class=\"dataframe\">\n",
       "  <thead>\n",
       " <tr style=\"text-align: left;\">\n",
       "      <th>Step</th>\n",
       "      <th>Training Loss</th>\n",
       "    </tr>\n",
       "  </thead>\n",
       "  <tbody>\n",
       "  </tbody>\n",
       "</table><p>"
      ],
      "text/plain": [
       "<IPython.core.display.HTML object>"
      ]
     },
     "metadata": {},
     "output_type": "display_data"
    }
   ],
   "source": [
    "from setfit import SetFitModel, Trainer, TrainingArguments\n",
    "\n",
    "model = SetFitModel.from_pretrained(\"BAAI/bge-small-en-v1.5\")\n",
    "\n",
    "args = TrainingArguments(\n",
    "    batch_size=32,\n",
    "    num_epochs=1,\n",
    ")\n",
    "\n",
    "trainer = Trainer(\n",
    "    model=model,\n",
    "    args=args,\n",
    "    train_dataset=train_dataset,\n",
    "    eval_dataset=test_dataset,\n",
    ")\n",
    "trainer.train()\n"
   ]
  },
  {
   "cell_type": "code",
   "execution_count": 38,
   "id": "28c37976-954d-4d36-bf1d-3774e48656c5",
   "metadata": {},
   "outputs": [
    {
     "name": "stderr",
     "output_type": "stream",
     "text": [
      "***** Running evaluation *****\n"
     ]
    },
    {
     "data": {
      "application/vnd.jupyter.widget-view+json": {
       "model_id": "1bd569acff80429c855141405eac4fe1",
       "version_major": 2,
       "version_minor": 0
      },
      "text/plain": [
       "Downloading builder script:   0%|          | 0.00/4.20k [00:00<?, ?B/s]"
      ]
     },
     "metadata": {},
     "output_type": "display_data"
    },
    {
     "name": "stdout",
     "output_type": "stream",
     "text": [
      "{'accuracy': 0.2408675799086758}\n"
     ]
    }
   ],
   "source": [
    "metrics = trainer.evaluate()\n",
    "print(metrics)"
   ]
  },
  {
   "cell_type": "code",
   "execution_count": 39,
   "id": "2a298c69-2f96-448b-bafc-41943bcc2d85",
   "metadata": {},
   "outputs": [
    {
     "data": {
      "text/plain": [
       "tensor(9)"
      ]
     },
     "execution_count": 39,
     "metadata": {},
     "output_type": "execute_result"
    }
   ],
   "source": [
    "model.predict(\"Hey, how can I get a flight?\")"
   ]
  },
  {
   "cell_type": "markdown",
   "id": "a7e32a1d-8f62-4901-b0af-93d2b4368d0c",
   "metadata": {},
   "source": [
    "## Lets try a differrent sentence transformers model"
   ]
  },
  {
   "cell_type": "code",
   "execution_count": 40,
   "id": "2a60bc8b-2db2-4b79-8d07-79736411bf8b",
   "metadata": {},
   "outputs": [
    {
     "data": {
      "application/vnd.jupyter.widget-view+json": {
       "model_id": "faa900402fea4ff5baf67bb19fe351d3",
       "version_major": 2,
       "version_minor": 0
      },
      "text/plain": [
       "config.json:   0%|          | 0.00/594 [00:00<?, ?B/s]"
      ]
     },
     "metadata": {},
     "output_type": "display_data"
    },
    {
     "data": {
      "application/vnd.jupyter.widget-view+json": {
       "model_id": "cbf56ad1b92146aaa5bf02755e9d055d",
       "version_major": 2,
       "version_minor": 0
      },
      "text/plain": [
       "modules.json:   0%|          | 0.00/229 [00:00<?, ?B/s]"
      ]
     },
     "metadata": {},
     "output_type": "display_data"
    },
    {
     "data": {
      "application/vnd.jupyter.widget-view+json": {
       "model_id": "274de9b6d70a4df0a81e097117d74e87",
       "version_major": 2,
       "version_minor": 0
      },
      "text/plain": [
       "config_sentence_transformers.json:   0%|          | 0.00/122 [00:00<?, ?B/s]"
      ]
     },
     "metadata": {},
     "output_type": "display_data"
    },
    {
     "data": {
      "application/vnd.jupyter.widget-view+json": {
       "model_id": "555bd914a79147e89145ec37e569463a",
       "version_major": 2,
       "version_minor": 0
      },
      "text/plain": [
       "README.md:   0%|          | 0.00/3.73k [00:00<?, ?B/s]"
      ]
     },
     "metadata": {},
     "output_type": "display_data"
    },
    {
     "data": {
      "application/vnd.jupyter.widget-view+json": {
       "model_id": "bd4343b2b7744fe2923e03edfe430781",
       "version_major": 2,
       "version_minor": 0
      },
      "text/plain": [
       "sentence_bert_config.json:   0%|          | 0.00/53.0 [00:00<?, ?B/s]"
      ]
     },
     "metadata": {},
     "output_type": "display_data"
    },
    {
     "data": {
      "application/vnd.jupyter.widget-view+json": {
       "model_id": "5d60fb198a30414daa5c0fbd749f64c9",
       "version_major": 2,
       "version_minor": 0
      },
      "text/plain": [
       "model.safetensors:   0%|          | 0.00/438M [00:00<?, ?B/s]"
      ]
     },
     "metadata": {},
     "output_type": "display_data"
    },
    {
     "data": {
      "application/vnd.jupyter.widget-view+json": {
       "model_id": "38b5ea22266a4571aece87ee35503762",
       "version_major": 2,
       "version_minor": 0
      },
      "text/plain": [
       "tokenizer_config.json:   0%|          | 0.00/1.19k [00:00<?, ?B/s]"
      ]
     },
     "metadata": {},
     "output_type": "display_data"
    },
    {
     "data": {
      "application/vnd.jupyter.widget-view+json": {
       "model_id": "2c99441c9e5e4de5979e2b59978e2dc1",
       "version_major": 2,
       "version_minor": 0
      },
      "text/plain": [
       "vocab.txt:   0%|          | 0.00/232k [00:00<?, ?B/s]"
      ]
     },
     "metadata": {},
     "output_type": "display_data"
    },
    {
     "data": {
      "application/vnd.jupyter.widget-view+json": {
       "model_id": "b0e8be00759a4bafb59f9cafc54934ac",
       "version_major": 2,
       "version_minor": 0
      },
      "text/plain": [
       "tokenizer.json:   0%|          | 0.00/466k [00:00<?, ?B/s]"
      ]
     },
     "metadata": {},
     "output_type": "display_data"
    },
    {
     "data": {
      "application/vnd.jupyter.widget-view+json": {
       "model_id": "3d79350bc578452a892a72b14c6704c7",
       "version_major": 2,
       "version_minor": 0
      },
      "text/plain": [
       "special_tokens_map.json:   0%|          | 0.00/239 [00:00<?, ?B/s]"
      ]
     },
     "metadata": {},
     "output_type": "display_data"
    },
    {
     "data": {
      "application/vnd.jupyter.widget-view+json": {
       "model_id": "eb10f358192b41f687f5a655a01ac2ca",
       "version_major": 2,
       "version_minor": 0
      },
      "text/plain": [
       "1_Pooling/config.json:   0%|          | 0.00/190 [00:00<?, ?B/s]"
      ]
     },
     "metadata": {},
     "output_type": "display_data"
    },
    {
     "name": "stderr",
     "output_type": "stream",
     "text": [
      "model_head.pkl not found on HuggingFace Hub, initialising classification head with random weights. You should TRAIN this model on a downstream task to use it for predictions and inference.\n"
     ]
    },
    {
     "data": {
      "application/vnd.jupyter.widget-view+json": {
       "model_id": "34c699b191664c51aad677baaa7d5d74",
       "version_major": 2,
       "version_minor": 0
      },
      "text/plain": [
       "Map:   0%|          | 0/144 [00:00<?, ? examples/s]"
      ]
     },
     "metadata": {},
     "output_type": "display_data"
    },
    {
     "name": "stderr",
     "output_type": "stream",
     "text": [
      "***** Running training *****\n",
      "  Num unique pairs = 19584\n",
      "  Batch size = 32\n",
      "  Num epochs = 1\n",
      "  Total optimization steps = 612\n"
     ]
    },
    {
     "data": {
      "text/html": [
       "\n",
       "    <div>\n",
       "      \n",
       "      <progress value='612' max='612' style='width:300px; height:20px; vertical-align: middle;'></progress>\n",
       "      [612/612 01:07, Epoch 1/0]\n",
       "    </div>\n",
       "    <table border=\"1\" class=\"dataframe\">\n",
       "  <thead>\n",
       " <tr style=\"text-align: left;\">\n",
       "      <th>Step</th>\n",
       "      <th>Training Loss</th>\n",
       "    </tr>\n",
       "  </thead>\n",
       "  <tbody>\n",
       "  </tbody>\n",
       "</table><p>"
      ],
      "text/plain": [
       "<IPython.core.display.HTML object>"
      ]
     },
     "metadata": {},
     "output_type": "display_data"
    }
   ],
   "source": [
    "from setfit import SetFitModel, Trainer, TrainingArguments\n",
    "\n",
    "model = SetFitModel.from_pretrained(\"sentence-transformers/paraphrase-mpnet-base-v2\")\n",
    "\n",
    "args = TrainingArguments(\n",
    "    batch_size=32,\n",
    "    num_epochs=1,\n",
    ")\n",
    "\n",
    "trainer = Trainer(\n",
    "    model=model,\n",
    "    args=args,\n",
    "    train_dataset=train_dataset,\n",
    "    eval_dataset=test_dataset,\n",
    ")\n",
    "trainer.train()\n",
    "\n"
   ]
  },
  {
   "cell_type": "code",
   "execution_count": 41,
   "id": "219158a5-d724-4165-af51-7da6a1583f66",
   "metadata": {},
   "outputs": [
    {
     "name": "stderr",
     "output_type": "stream",
     "text": [
      "***** Running evaluation *****\n"
     ]
    },
    {
     "name": "stdout",
     "output_type": "stream",
     "text": [
      "{'accuracy': 0.1415525114155251}\n"
     ]
    }
   ],
   "source": [
    "metrics = trainer.evaluate()\n",
    "print(metrics)"
   ]
  }
 ],
 "metadata": {
  "kernelspec": {
   "display_name": "Python 3 (ipykernel)",
   "language": "python",
   "name": "python3"
  },
  "language_info": {
   "codemirror_mode": {
    "name": "ipython",
    "version": 3
   },
   "file_extension": ".py",
   "mimetype": "text/x-python",
   "name": "python",
   "nbconvert_exporter": "python",
   "pygments_lexer": "ipython3",
   "version": "3.10.12"
  }
 },
 "nbformat": 4,
 "nbformat_minor": 5
}
