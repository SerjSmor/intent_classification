{
 "cells": [
  {
   "cell_type": "code",
   "execution_count": 1,
   "id": "1744c093-de97-441e-8dc9-85b9d01ce9ca",
   "metadata": {
    "ExecuteTime": {
     "end_time": "2024-05-03T10:59:40.402662Z",
     "start_time": "2024-05-03T10:58:50.314797Z"
    }
   },
   "outputs": [
    {
     "data": {
      "text/plain": "Downloading data:   0%|          | 0.00/850k [00:00<?, ?B/s]",
      "application/vnd.jupyter.widget-view+json": {
       "version_major": 2,
       "version_minor": 0,
       "model_id": "c861032505a74067b44ff373e30bad2f"
      }
     },
     "metadata": {},
     "output_type": "display_data"
    },
    {
     "data": {
      "text/plain": "Downloading data:   0%|          | 0.00/144k [00:00<?, ?B/s]",
      "application/vnd.jupyter.widget-view+json": {
       "version_major": 2,
       "version_minor": 0,
       "model_id": "b05d4e825a40461b8ce5aabe75ed23aa"
      }
     },
     "metadata": {},
     "output_type": "display_data"
    },
    {
     "data": {
      "text/plain": "Generating train split:   0%|          | 0/4978 [00:00<?, ? examples/s]",
      "application/vnd.jupyter.widget-view+json": {
       "version_major": 2,
       "version_minor": 0,
       "model_id": "85510e8e95654205815962b9d2383a3b"
      }
     },
     "metadata": {},
     "output_type": "display_data"
    },
    {
     "data": {
      "text/plain": "Generating test split:   0%|          | 0/893 [00:00<?, ? examples/s]",
      "application/vnd.jupyter.widget-view+json": {
       "version_major": 2,
       "version_minor": 0,
       "model_id": "d41ec7b3df7a4b33a42fe9a37b4eb2e0"
      }
     },
     "metadata": {},
     "output_type": "display_data"
    }
   ],
   "source": [
    "import transformers\n",
    "import pandas as pd\n",
    "\n",
    "from datasets import load_dataset\n",
    "from app.model import IntentClassifier\n",
    "\n",
    "\n",
    "dataset = load_dataset(\"tuetschek/atis\")"
   ]
  },
  {
   "cell_type": "code",
   "execution_count": 2,
   "id": "cfa03197-5076-457f-add3-93d1bb4cb899",
   "metadata": {
    "ExecuteTime": {
     "end_time": "2024-05-03T10:59:46.462289Z",
     "start_time": "2024-05-03T10:59:46.436626Z"
    }
   },
   "outputs": [
    {
     "data": {
      "text/plain": "{'abbreviation': 'Abbreviation and Fare Code Meaning Inquiry',\n 'aircraft': 'Aircraft Type Inquiry',\n 'airfare': 'Airfare Information Requests',\n 'airline': 'Airline Information Request',\n 'airport': 'Airport Information and Queries',\n 'capacity': 'Aircraft Seating Capacity Inquiry',\n 'cheapest': 'Cheapest Fare Inquiry',\n 'city': 'Airport Location Inquiry',\n 'distance': 'Airport Distance Inquiry',\n 'flight': 'Flight Booking Request',\n 'flight_no': 'Flight Number Inquiry',\n 'flight_time': 'Flight Schedule Inquiry',\n 'ground_fare': 'Ground Transportation Cost Inquiry',\n 'ground_service': 'Ground Transportation Inquiry',\n 'ground_service+ground_fare': 'Airport Ground Transportation and Cost Query',\n 'meal': 'Inquiry about In-flight Meals',\n 'quantity': 'Flight Quantity Inquiry',\n 'restriction': 'Flight Restriction Inquiry'}"
     },
     "execution_count": 2,
     "metadata": {},
     "output_type": "execute_result"
    }
   ],
   "source": [
    "from app.atis.utils import ATIS_INTENT_MAPPING as intent_mapping\n",
    "intent_mapping"
   ]
  },
  {
   "cell_type": "code",
   "execution_count": 24,
   "id": "97138c67-6c28-43a2-b936-50a2fb325e46",
   "metadata": {
    "ExecuteTime": {
     "end_time": "2024-05-03T11:37:11.169992Z",
     "start_time": "2024-05-03T11:37:11.083618Z"
    }
   },
   "outputs": [
    {
     "name": "stderr",
     "output_type": "stream",
     "text": [
      "100%|██████████| 893/893 [00:00<00:00, 17107.49it/s]\n"
     ]
    },
    {
     "data": {
      "text/plain": "{'id': 0,\n 'intent': 'flight',\n 'text': 'i would like to find a flight from charlotte to las vegas that makes a stop in st. louis',\n 'slots': 'O O O O O O O O B-fromloc.city_name O B-toloc.city_name I-toloc.city_name O O O O O B-stoploc.city_name I-stoploc.city_name'}"
     },
     "execution_count": 24,
     "metadata": {},
     "output_type": "execute_result"
    }
   ],
   "source": [
    "from tqdm import tqdm\n",
    "import datasets\n",
    "\n",
    "results = []\n",
    "test_set = []\n",
    "clean_test_set = []\n",
    "\n",
    "labels = list(intent_mapping.values())\n",
    "label_to_id = {}\n",
    "for i in range(len(labels)):\n",
    "    label_to_id[labels[i]] = i\n",
    "    \n",
    "for row in tqdm(dataset[\"test\"]):\n",
    "    intent = row[\"intent\"] \n",
    "    if intent not in intent_mapping:\n",
    "        continue \n",
    "    # row[\"intent\"] = intent_mapping[row[\"intent\"]]\n",
    "    test_set.append(row)\n",
    "    new_name = intent_mapping[row[\"intent\"]]\n",
    "    clean_test_set.append({\"label\": label_to_id[new_name], \"text\": row[\"text\"], \"label_name\": new_name})\n",
    "\n",
    "test_df = pd.DataFrame(data=clean_test_set)\n",
    "test_dataset = datasets.Dataset.from_pandas(test_df)\n",
    "test_set[0]"
   ]
  },
  {
   "cell_type": "markdown",
   "id": "ca52d0c6-f172-42c6-ad52-00a29cc0b024",
   "metadata": {},
   "source": [
    "## Train Setfit Zero shot \n"
   ]
  },
  {
   "cell_type": "code",
   "execution_count": 14,
   "id": "16f20f5f-02f5-4934-aa7e-755467359afd",
   "metadata": {
    "ExecuteTime": {
     "end_time": "2024-05-03T11:11:09.955017Z",
     "start_time": "2024-05-03T11:11:09.542057Z"
    }
   },
   "outputs": [
    {
     "name": "stdout",
     "output_type": "stream",
     "text": [
      "['Abbreviation and Fare Code Meaning Inquiry', 'Aircraft Type Inquiry', 'Airfare Information Requests', 'Airline Information Request', 'Airport Information and Queries', 'Aircraft Seating Capacity Inquiry', 'Cheapest Fare Inquiry', 'Airport Location Inquiry', 'Airport Distance Inquiry', 'Flight Booking Request', 'Flight Number Inquiry', 'Flight Schedule Inquiry', 'Ground Transportation Cost Inquiry', 'Ground Transportation Inquiry', 'Airport Ground Transportation and Cost Query', 'Inquiry about In-flight Meals', 'Flight Quantity Inquiry', 'Flight Restriction Inquiry']\n",
      "{'text': 'This sentence is Abbreviation and Fare Code Meaning Inquiry', 'label': 0}\n"
     ]
    }
   ],
   "source": [
    "from setfit import get_templated_dataset\n",
    "\n",
    "print(labels)\n",
    "train_dataset = get_templated_dataset(candidate_labels=labels, sample_size=8)\n",
    "print(train_dataset[0])\n",
    "\n"
   ]
  },
  {
   "cell_type": "code",
   "execution_count": 15,
   "id": "5f64a84b-6be2-4dde-bb92-9f129d3f55fb",
   "metadata": {
    "ExecuteTime": {
     "end_time": "2024-05-03T11:11:23.947125Z",
     "start_time": "2024-05-03T11:11:11.788253Z"
    }
   },
   "outputs": [
    {
     "name": "stderr",
     "output_type": "stream",
     "text": [
      "/Users/sergey/dev/loris/original_t5_intent_classification/venv/lib/python3.9/site-packages/huggingface_hub/file_download.py:1132: FutureWarning: `resume_download` is deprecated and will be removed in version 1.0.0. Downloads always resume when possible. If you want to force a new download, use `force_download=True`.\n",
      "  warnings.warn(\n",
      "model_head.pkl not found on HuggingFace Hub, initialising classification head with random weights. You should TRAIN this model on a downstream task to use it for predictions and inference.\n"
     ]
    },
    {
     "data": {
      "text/plain": "Map:   0%|          | 0/144 [00:00<?, ? examples/s]",
      "application/vnd.jupyter.widget-view+json": {
       "version_major": 2,
       "version_minor": 0,
       "model_id": "9f310848ee934701a4b6ab77b3f9ad7c"
      }
     },
     "metadata": {},
     "output_type": "display_data"
    },
    {
     "name": "stderr",
     "output_type": "stream",
     "text": [
      "***** Running training *****\n",
      "  Num unique pairs = 288\n",
      "  Batch size = 32\n",
      "  Num epochs = 1\n",
      "  Total optimization steps = 9\n"
     ]
    },
    {
     "data": {
      "text/plain": "<IPython.core.display.HTML object>",
      "text/html": "\n    <div>\n      \n      <progress value='2' max='9' style='width:300px; height:20px; vertical-align: middle;'></progress>\n      [2/9 : < :, Epoch 0.11/0]\n    </div>\n    <table border=\"1\" class=\"dataframe\">\n  <thead>\n <tr style=\"text-align: left;\">\n      <th>Step</th>\n      <th>Training Loss</th>\n    </tr>\n  </thead>\n  <tbody>\n  </tbody>\n</table><p>"
     },
     "metadata": {},
     "output_type": "display_data"
    }
   ],
   "source": [
    "from setfit import SetFitModel, Trainer, TrainingArguments\n",
    "\n",
    "model = SetFitModel.from_pretrained(\"BAAI/bge-small-en-v1.5\")\n",
    "\n",
    "args = TrainingArguments(\n",
    "    batch_size=32,\n",
    "    num_epochs=1,\n",
    "    num_iterations=1,\n",
    ")\n",
    "\n",
    "trainer = Trainer(\n",
    "    model=model,\n",
    "    args=args,\n",
    "    train_dataset=train_dataset,\n",
    "    eval_dataset=test_dataset,\n",
    ")\n",
    "trainer.train()\n"
   ]
  },
  {
   "cell_type": "code",
   "execution_count": 16,
   "id": "28c37976-954d-4d36-bf1d-3774e48656c5",
   "metadata": {
    "ExecuteTime": {
     "end_time": "2024-05-03T11:11:40.040309Z",
     "start_time": "2024-05-03T11:11:23.954409Z"
    }
   },
   "outputs": [
    {
     "name": "stderr",
     "output_type": "stream",
     "text": [
      "***** Running evaluation *****\n"
     ]
    },
    {
     "name": "stdout",
     "output_type": "stream",
     "text": [
      "{'accuracy': 0.5821917808219178}\n"
     ]
    }
   ],
   "source": [
    "metrics = trainer.evaluate()\n",
    "print(metrics)"
   ]
  },
  {
   "cell_type": "code",
   "execution_count": 39,
   "id": "2a298c69-2f96-448b-bafc-41943bcc2d85",
   "metadata": {},
   "outputs": [
    {
     "data": {
      "text/plain": [
       "tensor(9)"
      ]
     },
     "execution_count": 39,
     "metadata": {},
     "output_type": "execute_result"
    }
   ],
   "source": [
    "model.predict(\"Hey, how can I get a flight?\")"
   ]
  },
  {
   "cell_type": "code",
   "outputs": [
    {
     "name": "stderr",
     "output_type": "stream",
     "text": [
      "/Users/sergey/dev/loris/original_t5_intent_classification/venv/lib/python3.9/site-packages/datasets/load.py:759: FutureWarning: The repository for f1 contains custom code which must be executed to correctly load the metric. You can inspect the repository content at https://raw.githubusercontent.com/huggingface/datasets/2.19.0/metrics/f1/f1.py\n",
      "You can avoid this message in future by passing the argument `trust_remote_code=True`.\n",
      "Passing `trust_remote_code=True` will be mandatory to load this metric from the next major release of `datasets`.\n",
      "  warnings.warn(\n"
     ]
    }
   ],
   "source": [
    "from datasets import load_metric\n",
    "metric = load_metric(\"f1\")\n",
    "model_predictions = model(test_df[\"text\"].tolist())\n",
    "final_score = metric.compute(predictions=model_predictions, references=test_df[\"label\"], average=\"weighted\")\n"
   ],
   "metadata": {
    "collapsed": false,
    "ExecuteTime": {
     "end_time": "2024-05-03T11:35:27.770795Z",
     "start_time": "2024-05-03T11:35:12.793608Z"
    }
   },
   "id": "436ba384d29dcebd",
   "execution_count": 21
  },
  {
   "cell_type": "code",
   "outputs": [
    {
     "name": "stdout",
     "output_type": "stream",
     "text": [
      "{'f1': 0.6879956440691523}\n"
     ]
    },
    {
     "name": "stderr",
     "output_type": "stream",
     "text": [
      "/Users/sergey/dev/loris/original_t5_intent_classification/venv/lib/python3.9/site-packages/sklearn/metrics/_classification.py:1509: UndefinedMetricWarning: Precision is ill-defined and being set to 0.0 in labels with no predicted samples. Use `zero_division` parameter to control this behavior.\n",
      "  _warn_prf(average, modifier, f\"{metric.capitalize()} is\", len(result))\n",
      "/Users/sergey/dev/loris/original_t5_intent_classification/venv/lib/python3.9/site-packages/sklearn/metrics/_classification.py:1509: UndefinedMetricWarning: Recall is ill-defined and being set to 0.0 in labels with no true samples. Use `zero_division` parameter to control this behavior.\n",
      "  _warn_prf(average, modifier, f\"{metric.capitalize()} is\", len(result))\n",
      "/Users/sergey/dev/loris/original_t5_intent_classification/venv/lib/python3.9/site-packages/sklearn/metrics/_classification.py:1509: UndefinedMetricWarning: Precision is ill-defined and being set to 0.0 in labels with no predicted samples. Use `zero_division` parameter to control this behavior.\n",
      "  _warn_prf(average, modifier, f\"{metric.capitalize()} is\", len(result))\n",
      "/Users/sergey/dev/loris/original_t5_intent_classification/venv/lib/python3.9/site-packages/sklearn/metrics/_classification.py:1509: UndefinedMetricWarning: Recall is ill-defined and being set to 0.0 in labels with no true samples. Use `zero_division` parameter to control this behavior.\n",
      "  _warn_prf(average, modifier, f\"{metric.capitalize()} is\", len(result))\n",
      "/Users/sergey/dev/loris/original_t5_intent_classification/venv/lib/python3.9/site-packages/sklearn/metrics/_classification.py:1509: UndefinedMetricWarning: Precision is ill-defined and being set to 0.0 in labels with no predicted samples. Use `zero_division` parameter to control this behavior.\n",
      "  _warn_prf(average, modifier, f\"{metric.capitalize()} is\", len(result))\n",
      "/Users/sergey/dev/loris/original_t5_intent_classification/venv/lib/python3.9/site-packages/sklearn/metrics/_classification.py:1509: UndefinedMetricWarning: Recall is ill-defined and being set to 0.0 in labels with no true samples. Use `zero_division` parameter to control this behavior.\n",
      "  _warn_prf(average, modifier, f\"{metric.capitalize()} is\", len(result))\n"
     ]
    },
    {
     "data": {
      "text/plain": "              precision    recall  f1-score     support\n0              1.000000  0.787879  0.881356   33.000000\n1              1.000000  0.555556  0.714286    9.000000\n2              0.625000  0.104167  0.178571   48.000000\n3              0.818182  0.710526  0.760563   38.000000\n4              0.229730  0.944444  0.369565   18.000000\n5              0.840000  1.000000  0.913043   21.000000\n6              0.000000  0.000000  0.000000    0.000000\n7              0.000000  0.000000  0.000000    6.000000\n8              0.818182  0.900000  0.857143   10.000000\n9              0.984127  0.588608  0.736634  632.000000\n10             1.000000  0.750000  0.857143    8.000000\n11             0.009615  1.000000  0.019048    1.000000\n12             0.000000  0.000000  0.000000    7.000000\n13             0.933333  0.388889  0.549020   36.000000\n14             0.000000  0.000000  0.000000    0.000000\n15             0.230769  1.000000  0.375000    6.000000\n16             0.250000  0.333333  0.285714    3.000000\n17             0.000000  0.000000  0.000000    0.000000\naccuracy       0.582192  0.582192  0.582192    0.582192\nmacro avg      0.485497  0.503522  0.416505  876.000000\nweighted avg   0.911827  0.582192  0.687996  876.000000",
      "text/html": "<div>\n<style scoped>\n    .dataframe tbody tr th:only-of-type {\n        vertical-align: middle;\n    }\n\n    .dataframe tbody tr th {\n        vertical-align: top;\n    }\n\n    .dataframe thead th {\n        text-align: right;\n    }\n</style>\n<table border=\"1\" class=\"dataframe\">\n  <thead>\n    <tr style=\"text-align: right;\">\n      <th></th>\n      <th>precision</th>\n      <th>recall</th>\n      <th>f1-score</th>\n      <th>support</th>\n    </tr>\n  </thead>\n  <tbody>\n    <tr>\n      <th>0</th>\n      <td>1.000000</td>\n      <td>0.787879</td>\n      <td>0.881356</td>\n      <td>33.000000</td>\n    </tr>\n    <tr>\n      <th>1</th>\n      <td>1.000000</td>\n      <td>0.555556</td>\n      <td>0.714286</td>\n      <td>9.000000</td>\n    </tr>\n    <tr>\n      <th>2</th>\n      <td>0.625000</td>\n      <td>0.104167</td>\n      <td>0.178571</td>\n      <td>48.000000</td>\n    </tr>\n    <tr>\n      <th>3</th>\n      <td>0.818182</td>\n      <td>0.710526</td>\n      <td>0.760563</td>\n      <td>38.000000</td>\n    </tr>\n    <tr>\n      <th>4</th>\n      <td>0.229730</td>\n      <td>0.944444</td>\n      <td>0.369565</td>\n      <td>18.000000</td>\n    </tr>\n    <tr>\n      <th>5</th>\n      <td>0.840000</td>\n      <td>1.000000</td>\n      <td>0.913043</td>\n      <td>21.000000</td>\n    </tr>\n    <tr>\n      <th>6</th>\n      <td>0.000000</td>\n      <td>0.000000</td>\n      <td>0.000000</td>\n      <td>0.000000</td>\n    </tr>\n    <tr>\n      <th>7</th>\n      <td>0.000000</td>\n      <td>0.000000</td>\n      <td>0.000000</td>\n      <td>6.000000</td>\n    </tr>\n    <tr>\n      <th>8</th>\n      <td>0.818182</td>\n      <td>0.900000</td>\n      <td>0.857143</td>\n      <td>10.000000</td>\n    </tr>\n    <tr>\n      <th>9</th>\n      <td>0.984127</td>\n      <td>0.588608</td>\n      <td>0.736634</td>\n      <td>632.000000</td>\n    </tr>\n    <tr>\n      <th>10</th>\n      <td>1.000000</td>\n      <td>0.750000</td>\n      <td>0.857143</td>\n      <td>8.000000</td>\n    </tr>\n    <tr>\n      <th>11</th>\n      <td>0.009615</td>\n      <td>1.000000</td>\n      <td>0.019048</td>\n      <td>1.000000</td>\n    </tr>\n    <tr>\n      <th>12</th>\n      <td>0.000000</td>\n      <td>0.000000</td>\n      <td>0.000000</td>\n      <td>7.000000</td>\n    </tr>\n    <tr>\n      <th>13</th>\n      <td>0.933333</td>\n      <td>0.388889</td>\n      <td>0.549020</td>\n      <td>36.000000</td>\n    </tr>\n    <tr>\n      <th>14</th>\n      <td>0.000000</td>\n      <td>0.000000</td>\n      <td>0.000000</td>\n      <td>0.000000</td>\n    </tr>\n    <tr>\n      <th>15</th>\n      <td>0.230769</td>\n      <td>1.000000</td>\n      <td>0.375000</td>\n      <td>6.000000</td>\n    </tr>\n    <tr>\n      <th>16</th>\n      <td>0.250000</td>\n      <td>0.333333</td>\n      <td>0.285714</td>\n      <td>3.000000</td>\n    </tr>\n    <tr>\n      <th>17</th>\n      <td>0.000000</td>\n      <td>0.000000</td>\n      <td>0.000000</td>\n      <td>0.000000</td>\n    </tr>\n    <tr>\n      <th>accuracy</th>\n      <td>0.582192</td>\n      <td>0.582192</td>\n      <td>0.582192</td>\n      <td>0.582192</td>\n    </tr>\n    <tr>\n      <th>macro avg</th>\n      <td>0.485497</td>\n      <td>0.503522</td>\n      <td>0.416505</td>\n      <td>876.000000</td>\n    </tr>\n    <tr>\n      <th>weighted avg</th>\n      <td>0.911827</td>\n      <td>0.582192</td>\n      <td>0.687996</td>\n      <td>876.000000</td>\n    </tr>\n  </tbody>\n</table>\n</div>"
     },
     "execution_count": 36,
     "metadata": {},
     "output_type": "execute_result"
    }
   ],
   "source": [
    "from sklearn.metrics import classification_report\n",
    "print(final_score)\n",
    "predictions = model_predictions.cpu().numpy()\n",
    "# print(predictions)\n",
    "report = classification_report(test_df[\"label\"], predictions, output_dict=True)\n",
    "df = pd.DataFrame(report).transpose()\n",
    "df\n"
   ],
   "metadata": {
    "collapsed": false,
    "ExecuteTime": {
     "end_time": "2024-05-03T11:41:00.872941Z",
     "start_time": "2024-05-03T11:41:00.701026Z"
    }
   },
   "id": "ce4286db7fffab7b",
   "execution_count": 36
  },
  {
   "cell_type": "markdown",
   "id": "a7e32a1d-8f62-4901-b0af-93d2b4368d0c",
   "metadata": {},
   "source": [
    "## Lets try a differrent sentence transformers model"
   ]
  },
  {
   "cell_type": "code",
   "execution_count": 40,
   "id": "2a60bc8b-2db2-4b79-8d07-79736411bf8b",
   "metadata": {},
   "outputs": [
    {
     "data": {
      "application/vnd.jupyter.widget-view+json": {
       "model_id": "faa900402fea4ff5baf67bb19fe351d3",
       "version_major": 2,
       "version_minor": 0
      },
      "text/plain": [
       "config.json:   0%|          | 0.00/594 [00:00<?, ?B/s]"
      ]
     },
     "metadata": {},
     "output_type": "display_data"
    },
    {
     "data": {
      "application/vnd.jupyter.widget-view+json": {
       "model_id": "cbf56ad1b92146aaa5bf02755e9d055d",
       "version_major": 2,
       "version_minor": 0
      },
      "text/plain": [
       "modules.json:   0%|          | 0.00/229 [00:00<?, ?B/s]"
      ]
     },
     "metadata": {},
     "output_type": "display_data"
    },
    {
     "data": {
      "application/vnd.jupyter.widget-view+json": {
       "model_id": "274de9b6d70a4df0a81e097117d74e87",
       "version_major": 2,
       "version_minor": 0
      },
      "text/plain": [
       "config_sentence_transformers.json:   0%|          | 0.00/122 [00:00<?, ?B/s]"
      ]
     },
     "metadata": {},
     "output_type": "display_data"
    },
    {
     "data": {
      "application/vnd.jupyter.widget-view+json": {
       "model_id": "555bd914a79147e89145ec37e569463a",
       "version_major": 2,
       "version_minor": 0
      },
      "text/plain": [
       "README.md:   0%|          | 0.00/3.73k [00:00<?, ?B/s]"
      ]
     },
     "metadata": {},
     "output_type": "display_data"
    },
    {
     "data": {
      "application/vnd.jupyter.widget-view+json": {
       "model_id": "bd4343b2b7744fe2923e03edfe430781",
       "version_major": 2,
       "version_minor": 0
      },
      "text/plain": [
       "sentence_bert_config.json:   0%|          | 0.00/53.0 [00:00<?, ?B/s]"
      ]
     },
     "metadata": {},
     "output_type": "display_data"
    },
    {
     "data": {
      "application/vnd.jupyter.widget-view+json": {
       "model_id": "5d60fb198a30414daa5c0fbd749f64c9",
       "version_major": 2,
       "version_minor": 0
      },
      "text/plain": [
       "model.safetensors:   0%|          | 0.00/438M [00:00<?, ?B/s]"
      ]
     },
     "metadata": {},
     "output_type": "display_data"
    },
    {
     "data": {
      "application/vnd.jupyter.widget-view+json": {
       "model_id": "38b5ea22266a4571aece87ee35503762",
       "version_major": 2,
       "version_minor": 0
      },
      "text/plain": [
       "tokenizer_config.json:   0%|          | 0.00/1.19k [00:00<?, ?B/s]"
      ]
     },
     "metadata": {},
     "output_type": "display_data"
    },
    {
     "data": {
      "application/vnd.jupyter.widget-view+json": {
       "model_id": "2c99441c9e5e4de5979e2b59978e2dc1",
       "version_major": 2,
       "version_minor": 0
      },
      "text/plain": [
       "vocab.txt:   0%|          | 0.00/232k [00:00<?, ?B/s]"
      ]
     },
     "metadata": {},
     "output_type": "display_data"
    },
    {
     "data": {
      "application/vnd.jupyter.widget-view+json": {
       "model_id": "b0e8be00759a4bafb59f9cafc54934ac",
       "version_major": 2,
       "version_minor": 0
      },
      "text/plain": [
       "tokenizer.json:   0%|          | 0.00/466k [00:00<?, ?B/s]"
      ]
     },
     "metadata": {},
     "output_type": "display_data"
    },
    {
     "data": {
      "application/vnd.jupyter.widget-view+json": {
       "model_id": "3d79350bc578452a892a72b14c6704c7",
       "version_major": 2,
       "version_minor": 0
      },
      "text/plain": [
       "special_tokens_map.json:   0%|          | 0.00/239 [00:00<?, ?B/s]"
      ]
     },
     "metadata": {},
     "output_type": "display_data"
    },
    {
     "data": {
      "application/vnd.jupyter.widget-view+json": {
       "model_id": "eb10f358192b41f687f5a655a01ac2ca",
       "version_major": 2,
       "version_minor": 0
      },
      "text/plain": [
       "1_Pooling/config.json:   0%|          | 0.00/190 [00:00<?, ?B/s]"
      ]
     },
     "metadata": {},
     "output_type": "display_data"
    },
    {
     "name": "stderr",
     "output_type": "stream",
     "text": [
      "model_head.pkl not found on HuggingFace Hub, initialising classification head with random weights. You should TRAIN this model on a downstream task to use it for predictions and inference.\n"
     ]
    },
    {
     "data": {
      "application/vnd.jupyter.widget-view+json": {
       "model_id": "34c699b191664c51aad677baaa7d5d74",
       "version_major": 2,
       "version_minor": 0
      },
      "text/plain": [
       "Map:   0%|          | 0/144 [00:00<?, ? examples/s]"
      ]
     },
     "metadata": {},
     "output_type": "display_data"
    },
    {
     "name": "stderr",
     "output_type": "stream",
     "text": [
      "***** Running training *****\n",
      "  Num unique pairs = 19584\n",
      "  Batch size = 32\n",
      "  Num epochs = 1\n",
      "  Total optimization steps = 612\n"
     ]
    },
    {
     "data": {
      "text/html": [
       "\n",
       "    <div>\n",
       "      \n",
       "      <progress value='612' max='612' style='width:300px; height:20px; vertical-align: middle;'></progress>\n",
       "      [612/612 01:07, Epoch 1/0]\n",
       "    </div>\n",
       "    <table border=\"1\" class=\"dataframe\">\n",
       "  <thead>\n",
       " <tr style=\"text-align: left;\">\n",
       "      <th>Step</th>\n",
       "      <th>Training Loss</th>\n",
       "    </tr>\n",
       "  </thead>\n",
       "  <tbody>\n",
       "  </tbody>\n",
       "</table><p>"
      ],
      "text/plain": [
       "<IPython.core.display.HTML object>"
      ]
     },
     "metadata": {},
     "output_type": "display_data"
    }
   ],
   "source": [
    "from setfit import SetFitModel, Trainer, TrainingArguments\n",
    "\n",
    "model = SetFitModel.from_pretrained(\"sentence-transformers/paraphrase-mpnet-base-v2\")\n",
    "\n",
    "args = TrainingArguments(\n",
    "    batch_size=32,\n",
    "    num_epochs=1,\n",
    ")\n",
    "\n",
    "trainer = Trainer(\n",
    "    model=model,\n",
    "    args=args,\n",
    "    train_dataset=train_dataset,\n",
    "    eval_dataset=test_dataset,\n",
    ")\n",
    "trainer.train()\n",
    "\n"
   ]
  },
  {
   "cell_type": "code",
   "execution_count": 37,
   "id": "219158a5-d724-4165-af51-7da6a1583f66",
   "metadata": {
    "ExecuteTime": {
     "end_time": "2024-05-03T11:59:41.401021Z",
     "start_time": "2024-05-03T11:59:22.004319Z"
    }
   },
   "outputs": [
    {
     "name": "stderr",
     "output_type": "stream",
     "text": [
      "***** Running evaluation *****\n"
     ]
    },
    {
     "name": "stdout",
     "output_type": "stream",
     "text": [
      "{'accuracy': 0.5821917808219178}\n"
     ]
    }
   ],
   "source": [
    "metrics = trainer.evaluate()\n",
    "print(metrics)"
   ]
  }
 ],
 "metadata": {
  "kernelspec": {
   "display_name": "Python 3 (ipykernel)",
   "language": "python",
   "name": "python3"
  },
  "language_info": {
   "codemirror_mode": {
    "name": "ipython",
    "version": 3
   },
   "file_extension": ".py",
   "mimetype": "text/x-python",
   "name": "python",
   "nbconvert_exporter": "python",
   "pygments_lexer": "ipython3",
   "version": "3.10.12"
  }
 },
 "nbformat": 4,
 "nbformat_minor": 5
}
