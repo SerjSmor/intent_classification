{
 "cells": [
  {
   "cell_type": "markdown",
   "id": "8457abc9-0a9f-4c61-9032-7a2c251954e9",
   "metadata": {},
   "source": [
    "# Content: \n",
    "## Load dataset\n",
    "## Load T5 Model\n",
    "## Run predictions\n",
    "### Classification report"
   ]
  },
  {
   "cell_type": "markdown",
   "id": "8eb5626c-a4bc-4215-b1f0-69538ac9925d",
   "metadata": {},
   "source": [
    "## Load Dataset"
   ]
  },
  {
   "cell_type": "code",
   "execution_count": 9,
   "id": "bc8b9dda-3d2e-4664-b8bb-5457be8bb5f8",
   "metadata": {},
   "outputs": [],
   "source": [
    "import transformers\n",
    "import pandas as pd\n",
    "\n",
    "from datasets import load_dataset\n",
    "from app.model import IntentClassifier\n",
    "\n",
    "\n",
    "dataset = load_dataset(\"tuetschek/atis\")"
   ]
  },
  {
   "cell_type": "code",
   "execution_count": 10,
   "id": "8534b864-2341-431a-b110-700afa726286",
   "metadata": {},
   "outputs": [
    {
     "data": {
      "text/plain": [
       "Dataset({\n",
       "    features: ['id', 'intent', 'text', 'slots'],\n",
       "    num_rows: 4978\n",
       "})"
      ]
     },
     "execution_count": 10,
     "metadata": {},
     "output_type": "execute_result"
    }
   ],
   "source": [
    "\n",
    "# dataset[\"intent\"].value_counts()\n",
    "dataset[\"train\"]"
   ]
  },
  {
   "cell_type": "markdown",
   "id": "1b5e39fe-8fc6-49f8-9d1a-8ae4718959e0",
   "metadata": {},
   "source": [
    "## Examples\n",
    "flight-Flight search: what flights are available from pittsburgh to baltimore on thursday morning\n",
    "flight_time-Flight time questions: what is the arrival time in san francisco for the 755 am flight leaving washington\n",
    "airfare-Check costs: show me the first class fares from boston to denver\n",
    "ground_service-\n"
   ]
  },
  {
   "cell_type": "code",
   "execution_count": 11,
   "id": "4002b40a-611d-4318-ba5e-6638637ee275",
   "metadata": {},
   "outputs": [
    {
     "data": {
      "text/plain": [
       "{'id': 0,\n",
       " 'intent': 'flight',\n",
       " 'text': 'i want to fly from boston at 838 am and arrive in denver at 1110 in the morning',\n",
       " 'slots': 'O O O O O B-fromloc.city_name O B-depart_time.time I-depart_time.time O O O B-toloc.city_name O B-arrive_time.time O O B-arrive_time.period_of_day'}"
      ]
     },
     "execution_count": 11,
     "metadata": {},
     "output_type": "execute_result"
    }
   ],
   "source": [
    "dataset[\"train\"][0]"
   ]
  },
  {
   "cell_type": "code",
   "execution_count": 12,
   "id": "5b46da9f-ae5b-477a-86ad-8b56afe990c9",
   "metadata": {},
   "outputs": [
    {
     "data": {
      "text/plain": [
       "{'abbreviation',\n",
       " 'aircraft',\n",
       " 'aircraft+flight+flight_no',\n",
       " 'airfare',\n",
       " 'airfare+flight_time',\n",
       " 'airline',\n",
       " 'airline+flight_no',\n",
       " 'airport',\n",
       " 'capacity',\n",
       " 'cheapest',\n",
       " 'city',\n",
       " 'distance',\n",
       " 'flight',\n",
       " 'flight+airfare',\n",
       " 'flight_no',\n",
       " 'flight_time',\n",
       " 'ground_fare',\n",
       " 'ground_service',\n",
       " 'ground_service+ground_fare',\n",
       " 'meal',\n",
       " 'quantity',\n",
       " 'restriction'}"
      ]
     },
     "execution_count": 12,
     "metadata": {},
     "output_type": "execute_result"
    }
   ],
   "source": [
    "intents = set([row[\"intent\"] for row in dataset[\"train\"]])\n",
    "intents"
   ]
  },
  {
   "cell_type": "code",
   "execution_count": 13,
   "id": "9f91a4f2-65da-4a83-bdf2-b50750794617",
   "metadata": {},
   "outputs": [
    {
     "data": {
      "text/plain": [
       "{'abbreviation': 'Abbreviation and Fare Code Meaning Inquiry',\n",
       " 'aircraft': 'Aircraft Type Inquiry',\n",
       " 'airfare': 'Airfare Information Requests',\n",
       " 'airline': 'Airline Information Request',\n",
       " 'airport': 'Airport Information and Queries',\n",
       " 'capacity': 'Aircraft Seating Capacity Inquiry',\n",
       " 'cheapest': 'Cheapest Fare Inquiry',\n",
       " 'city': 'Airport Location Inquiry',\n",
       " 'distance': 'Airport Distance Inquiry',\n",
       " 'flight': 'Flight Booking Request',\n",
       " 'flight_no': 'Flight Number Inquiry',\n",
       " 'flight_time': 'Flight Schedule Inquiry',\n",
       " 'ground_fare': 'Ground Transportation Cost Inquiry',\n",
       " 'ground_service': 'Ground Transportation Inquiry',\n",
       " 'ground_service+ground_fare': 'Airport Ground Transportation and Cost Query',\n",
       " 'meal': 'Inquiry about In-flight Meals',\n",
       " 'quantity': 'Flight Quantity Inquiry',\n",
       " 'restriction': 'Flight Restriction Inquiry'}"
      ]
     },
     "execution_count": 13,
     "metadata": {},
     "output_type": "execute_result"
    }
   ],
   "source": [
    "from app.atis.utils import ATIS_INTENT_MAPPING as intent_mapping\n",
    "intent_mapping"
   ]
  },
  {
   "cell_type": "code",
   "execution_count": 14,
   "id": "191b3fe7-98b9-40bb-984c-a3748715c848",
   "metadata": {},
   "outputs": [],
   "source": [
    "# get 10 samples from each intent\n",
    "intent_samples = {intent: [] for intent in intents}\n",
    "\n",
    "# Iterate through the dataset\n",
    "for row in dataset[\"train\"]:\n",
    "    intent = row[\"intent\"]\n",
    "    # If we haven't collected 10 samples for this intent yet, add the current row\n",
    "    if len(intent_samples[intent]) < 5:\n",
    "        intent_samples[intent].append(row[\"text\"])\n",
    "    # If we have collected 10 samples for this intent, move on to the next intent\n",
    "    else:\n",
    "        continue"
   ]
  },
  {
   "cell_type": "code",
   "execution_count": 15,
   "id": "4e599217-d806-4a32-90d2-58d3bce9be33",
   "metadata": {},
   "outputs": [
    {
     "data": {
      "text/plain": [
       "{'meal': ['show me all meals on flights from atlanta to washington',\n",
       "  'is there a meal on delta flight 852 from san francisco to dallas fort worth',\n",
       "  'what are all the available meals',\n",
       "  'what are my meal options from boston to denver',\n",
       "  'do i get a meal on the atlanta to bwi flight eastern 210'],\n",
       " 'capacity': ['how many seats in a 100',\n",
       "  'how many passengers fit on a d9s',\n",
       "  'how many seats in a 72s',\n",
       "  'what is the total seating capacity of all aircraft of american airlines',\n",
       "  \"what 's the capacity of an f28\"],\n",
       " 'city': ['what city is the airport mco in',\n",
       "  'where is mco',\n",
       "  'where is general mitchell international located',\n",
       "  'where is general mitchell international located',\n",
       "  'show me the cities served by nationair'],\n",
       " 'flight': ['i want to fly from boston at 838 am and arrive in denver at 1110 in the morning',\n",
       "  'what flights are available from pittsburgh to baltimore on thursday morning',\n",
       "  'i need a flight tomorrow from columbus to minneapolis',\n",
       "  'show me the flights from pittsburgh to los angeles on thursday',\n",
       "  'all flights from boston to washington'],\n",
       " 'airfare+flight_time': ['show me the costs and times for flights from san francisco to atlanta'],\n",
       " 'airfare': ['cheapest airfare from tacoma to orlando',\n",
       "  'round trip fares from pittsburgh to philadelphia under 1000 dollars',\n",
       "  'show me the first class fares from boston to denver',\n",
       "  \"i 'd like to have some information on a ticket from denver to pittsburgh and atlanta\",\n",
       "  'show me the cheapest round trip fare from baltimore to dallas'],\n",
       " 'distance': ['how far is it from orlando airport to orlando',\n",
       "  'what is the distance from los angeles international airport to los angeles',\n",
       "  'tell me distance from orlando airport to the city',\n",
       "  'how far is downtown from the airport in dallas',\n",
       "  'how long does it take to get from atlanta airport into the city of atlanta'],\n",
       " 'restriction': ['what are the air restrictions on flights from pittsburgh to atlanta for the airfare of 416 dollars',\n",
       "  'what is restriction ap57',\n",
       "  'what are the restrictions on the cheapest one way fare between boston and oakland',\n",
       "  \"what 's restriction ap68\",\n",
       "  'what is restriction ap57'],\n",
       " 'airline': ['which airline serves denver pittsburgh and atlanta',\n",
       "  'show me the airlines with first class flights',\n",
       "  'which airline has the most arrivals in atlanta',\n",
       "  'what airlines fly from new york to milwaukee to los angeles',\n",
       "  'which airlines serve atlanta'],\n",
       " 'cheapest': ['show me the cheapest fare in the database'],\n",
       " 'airport': [\"what 's the airport at orlando\",\n",
       "  'give me a list of airports in baltimore',\n",
       "  'houston airports',\n",
       "  'please list information regarding san francisco airport',\n",
       "  \"what 's the name of the denver airport\"],\n",
       " 'aircraft': ['what kind of aircraft is used on a flight from cleveland to dallas',\n",
       "  'what kinds of planes are used by american airlines',\n",
       "  'what types of aircraft does delta fly',\n",
       "  'on the 8 am flight from san francisco to atlanta what type of aircraft is used',\n",
       "  'list aircraft types that fly between boston and san francisco'],\n",
       " 'flight_time': ['what is the arrival time in san francisco for the 755 am flight leaving washington',\n",
       "  'what are the times that you have planes leaving from san francisco going to pittsburgh on july seventh',\n",
       "  'on united airlines give me the flight times from boston to dallas',\n",
       "  'what are the schedule of flights from boston to san francisco for august first',\n",
       "  'what is the flight schedule of the f28 from pittsburgh to baltimore'],\n",
       " 'airline+flight_no': ['airline and flight number from columbus to minneapolis',\n",
       "  'may i please see airlines and flight numbers from new york to toronto on the same date june seventeenth also arriving in toronto before noon thank you'],\n",
       " 'ground_service+ground_fare': ['what ground transportation is available from the pittsburgh airport to downtown and how much does it cost'],\n",
       " 'abbreviation': ['what is fare code h',\n",
       "  'what is booking class c',\n",
       "  'what does fare code q mean',\n",
       "  'what is fare code qw',\n",
       "  'what does the fare code f mean'],\n",
       " 'aircraft+flight+flight_no': ['i want to fly from detroit to st. petersburg on northwest airlines and leave around 9 am tell me what aircraft are used by this flight and tell me the flight number'],\n",
       " 'ground_fare': ['how much does the limousine service cost within pittsburgh',\n",
       "  'how much does it cost to rent a car in tacoma',\n",
       "  'what are the costs of car rental in dallas',\n",
       "  'how much does it cost to get downtown from the atlanta airport by limousine',\n",
       "  'what are the rental car rates in san francisco'],\n",
       " 'flight_no': ['flight numbers from columbus to minneapolis tomorrow',\n",
       "  \"i 'm trying to find the flight number from a flight from orlando to cleveland on us air and it arrives around 10 pm\",\n",
       "  'flight numbers from minneapolis to long beach on june twenty six',\n",
       "  'please show me the return flight number from toronto to st. petersburg',\n",
       "  'what is the flight number for the continental flight which leaves denver at 1220 pm and goes to san francisco'],\n",
       " 'ground_service': ['what kind of ground transportation is available in denver',\n",
       "  'show me the ground transportation in denver',\n",
       "  'atlanta ground transportation',\n",
       "  'show me information on ground transportation for dallas',\n",
       "  'what is the ground transportation from philadelphia airport to the city proper'],\n",
       " 'flight+airfare': ['give me the flights and fares on december twenty seventh from indianapolis to orlando',\n",
       "  'all flights and fares from atlanta to dallas round trip after 12 pm less than 1100 dollars',\n",
       "  'first flights and fares from pittsburgh to atlanta on a thursday',\n",
       "  'all flights and fares from atlanta to dallas round trip after 12 pm less than 1100 dollars',\n",
       "  'all flights and fares from pittsburgh to dallas round trip after 12 pm less than 1100 dollars'],\n",
       " 'quantity': ['please tell me how many nonstop flights there are from boston to atlanta',\n",
       "  'how many flights does delta have with a class of service code f',\n",
       "  'how many booking classes are there',\n",
       "  'list the number of flights leaving boston for dallas fort worth before 9 am in the morning',\n",
       "  'how many us air flights leave from washington']}"
      ]
     },
     "execution_count": 15,
     "metadata": {},
     "output_type": "execute_result"
    }
   ],
   "source": [
    "intent_samples"
   ]
  },
  {
   "cell_type": "code",
   "execution_count": null,
   "id": "a3ad5358-f5cd-40c5-aba0-1afd8234cd51",
   "metadata": {},
   "outputs": [],
   "source": []
  },
  {
   "cell_type": "markdown",
   "id": "9be7ca69-f984-4e5b-b473-a4b51a889e63",
   "metadata": {},
   "source": [
    "# Load model and run one prediction"
   ]
  },
  {
   "cell_type": "code",
   "execution_count": 17,
   "id": "c16dfcaa-5e22-4189-be0d-2370447e5dcd",
   "metadata": {},
   "outputs": [
    {
     "name": "stdout",
     "output_type": "stream",
     "text": [
      "9d3538c56a5f52b45bf8d7e8fa675da7b82cf9ec\n"
     ]
    },
    {
     "name": "stderr",
     "output_type": "stream",
     "text": [
      "Special tokens have been added in the vocabulary, make sure the associated word embeddings are fine-tuned or trained.\n"
     ]
    }
   ],
   "source": [
    "model = IntentClassifier(model_name=\"Serj/intent-classifier\", commit_hash=\"9d3538c56a5f52b45bf8d7e8fa675da7b82cf9ec\")"
   ]
  },
  {
   "cell_type": "code",
   "execution_count": 18,
   "id": "f0c5ef21-234c-4354-9522-b161ebdabdf3",
   "metadata": {},
   "outputs": [
    {
     "data": {
      "text/plain": [
       "'OPTIONS\\n 1. Inquiry about In-flight Meals  2. Aircraft Seating Capacity Inquiry  3. Airport Location Inquiry  4. Flight Booking Request  5. Airfare Information Requests  6. Airport Distance Inquiry  7. Flight Restriction Inquiry  8. Airline Information Request  9. Cheapest Fare Inquiry  10. Airport Information and Queries  11. Aircraft Type Inquiry  12. Flight Schedule Inquiry  13. Airport Ground Transportation and Cost Query  14. Abbreviation and Fare Code Meaning Inquiry  15. Ground Transportation Cost Inquiry  16. Flight Number Inquiry  17. Ground Transportation Inquiry  18. Flight Quantity Inquiry '"
      ]
     },
     "execution_count": 18,
     "metadata": {},
     "output_type": "execute_result"
    }
   ],
   "source": [
    "prompt_options = \"OPTIONS\\n\"\n",
    "index = 1\n",
    "for intent in intents:\n",
    "    if intent not in intent_mapping:\n",
    "        continue\n",
    "        \n",
    "    mapping = intent_mapping[intent]\n",
    "    prompt_options += f\" {index}. {mapping} \"\n",
    "    index += 1\n",
    "prompt_options"
   ]
  },
  {
   "cell_type": "code",
   "execution_count": 19,
   "id": "a52ea357-4c64-4771-8792-352c500d9d28",
   "metadata": {},
   "outputs": [
    {
     "data": {
      "text/plain": [
       "('i want to fly from boston at 838 am and arrive in denver at 1110 in the morning',\n",
       " 'flight',\n",
       " 'Flight Booking Request')"
      ]
     },
     "execution_count": 19,
     "metadata": {},
     "output_type": "execute_result"
    }
   ],
   "source": [
    "(dataset[\"train\"][0][\"text\"], dataset[\"train\"][0][\"intent\"], intent_mapping[dataset[\"train\"][0][\"intent\"]])"
   ]
  },
  {
   "cell_type": "code",
   "execution_count": 20,
   "id": "f3f3d6d5-d67d-4bb9-b587-08f95aba8648",
   "metadata": {},
   "outputs": [
    {
     "name": "stdout",
     "output_type": "stream",
     "text": [
      "i want to fly from boston at 838 am and arrive in denver at 1110 in the morning\n"
     ]
    },
    {
     "name": "stderr",
     "output_type": "stream",
     "text": [
      "/home/serj/dev/customer_support_classifier/venv/lib/python3.10/site-packages/transformers/generation/utils.py:1132: UserWarning: Using the model-agnostic default `max_length` (=20) to control the generation length. We recommend setting `max_new_tokens` to control the maximum length of the generation.\n",
      "  warnings.warn(\n"
     ]
    },
    {
     "data": {
      "text/plain": [
       "'Class name: Flight Booking Request'"
      ]
     },
     "execution_count": 20,
     "metadata": {},
     "output_type": "execute_result"
    }
   ],
   "source": [
    "company_name = \"Atis Airlines\"\n",
    "company_specific = \"An Airline company\"\n",
    "customer_text = dataset[\"train\"][0][\"text\"]\n",
    "print(customer_text)\n",
    "model.predict(customer_text, prompt_options, company_name, company_specific)"
   ]
  },
  {
   "cell_type": "code",
   "execution_count": 21,
   "id": "462cece4-bf43-40cd-a152-fefc5517d32b",
   "metadata": {},
   "outputs": [
    {
     "data": {
      "text/plain": [
       "'Class name: Flight Booking Request'"
      ]
     },
     "execution_count": 21,
     "metadata": {},
     "output_type": "execute_result"
    }
   ],
   "source": [
    "company_name = \"Atis Airlines\"\n",
    "company_specific = \"An Airline company\"\n",
    "model.predict(dataset[\"train\"][700][\"text\"], prompt_options, company_name, company_specific)"
   ]
  },
  {
   "cell_type": "code",
   "execution_count": 22,
   "id": "95b01436-5fb2-43d3-b987-931f2481e7aa",
   "metadata": {},
   "outputs": [
    {
     "data": {
      "text/plain": [
       "'arrive, morning, fly'"
      ]
     },
     "execution_count": 22,
     "metadata": {},
     "output_type": "execute_result"
    }
   ],
   "source": [
    "model.raw_predict(f\"All of the verbs: {customer_text}\")"
   ]
  },
  {
   "cell_type": "markdown",
   "id": "4556c427-7391-4fb6-9ab7-d728c69b69a9",
   "metadata": {},
   "source": [
    "## Train set"
   ]
  },
  {
   "cell_type": "code",
   "execution_count": 23,
   "id": "14731be1-b52c-4839-83ae-82308a6f23cc",
   "metadata": {},
   "outputs": [],
   "source": [
    "# from tqdm import tqdm\n",
    "# results = []\n",
    "# for row in tqdm(dataset[\"train\"]):\n",
    "#     intent = row[\"intent\"] \n",
    "#     if intent not in intent_mapping:\n",
    "#         continue \n",
    "    \n",
    "#     prediction = model.predict(row[\"text\"], prompt_options, company_name, company_specific)\n",
    "#     keywords = model.raw_predict(f\"All of the verbs: {row['text']}\")\n",
    "#     results.append({\"prediction\": prediction, \"y\": intent_mapping[intent], \"keywords\": keywords, \"text\": row[\"text\"]})"
   ]
  },
  {
   "cell_type": "code",
   "execution_count": 25,
   "id": "16781ea6-96e6-44f8-939d-f410a212d6a7",
   "metadata": {},
   "outputs": [],
   "source": [
    "# results"
   ]
  },
  {
   "cell_type": "code",
   "execution_count": null,
   "id": "347dddd0-cef5-4994-8f52-979179ff13c1",
   "metadata": {},
   "outputs": [],
   "source": [
    "# from sklearn.metrics import classification_report\n",
    "# y = [r[\"y\"] for r in results]\n",
    "# predictions = [r[\"prediction\"].replace(\"Class name: \",\"\") for r in results]\n",
    "# pd.DataFrame(classification_report(y, predictions, output_dict=True)).T"
   ]
  },
  {
   "cell_type": "code",
   "execution_count": 29,
   "id": "9787ef74-f27c-49ad-bbd6-89bfb33b3c0c",
   "metadata": {},
   "outputs": [],
   "source": [
    "# import pandas as pd\n",
    "# df = pd.DataFrame(results)\n",
    "# df[\"prediction\"].value_counts()"
   ]
  },
  {
   "cell_type": "markdown",
   "id": "86f18a29-758a-43bf-bfd6-34685d451f12",
   "metadata": {},
   "source": [
    "## Test set"
   ]
  },
  {
   "cell_type": "code",
   "execution_count": 27,
   "id": "34ac1d1e-0f2e-4bfe-8641-9407bb867cdb",
   "metadata": {},
   "outputs": [
    {
     "name": "stderr",
     "output_type": "stream",
     "text": [
      "100%|███████████████████████████████████████████████████████████████████████████████████████████████████████████████████| 893/893 [01:06<00:00, 13.37it/s]\n"
     ]
    }
   ],
   "source": [
    "from tqdm import tqdm\n",
    "results = []\n",
    "for row in tqdm(dataset[\"test\"]):\n",
    "    intent = row[\"intent\"] \n",
    "    if intent not in intent_mapping:\n",
    "        continue \n",
    "    \n",
    "    prediction = model.predict(row[\"text\"], prompt_options, company_name, company_specific)\n",
    "    keywords = model.raw_predict(f\"All of the verbs: {row['text']}\")\n",
    "    results.append({\"prediction\": prediction, \"y\": intent_mapping[intent]})"
   ]
  },
  {
   "cell_type": "code",
   "execution_count": 28,
   "id": "b20d04fa-554b-49e7-b7ce-695d223d2333",
   "metadata": {},
   "outputs": [
    {
     "name": "stderr",
     "output_type": "stream",
     "text": [
      "/home/serj/dev/customer_support_classifier/venv/lib/python3.10/site-packages/sklearn/metrics/_classification.py:1509: UndefinedMetricWarning: Recall is ill-defined and being set to 0.0 in labels with no true samples. Use `zero_division` parameter to control this behavior.\n",
      "  _warn_prf(average, modifier, f\"{metric.capitalize()} is\", len(result))\n",
      "/home/serj/dev/customer_support_classifier/venv/lib/python3.10/site-packages/sklearn/metrics/_classification.py:1509: UndefinedMetricWarning: Recall is ill-defined and being set to 0.0 in labels with no true samples. Use `zero_division` parameter to control this behavior.\n",
      "  _warn_prf(average, modifier, f\"{metric.capitalize()} is\", len(result))\n",
      "/home/serj/dev/customer_support_classifier/venv/lib/python3.10/site-packages/sklearn/metrics/_classification.py:1509: UndefinedMetricWarning: Recall is ill-defined and being set to 0.0 in labels with no true samples. Use `zero_division` parameter to control this behavior.\n",
      "  _warn_prf(average, modifier, f\"{metric.capitalize()} is\", len(result))\n"
     ]
    },
    {
     "data": {
      "text/html": [
       "<div>\n",
       "<style scoped>\n",
       "    .dataframe tbody tr th:only-of-type {\n",
       "        vertical-align: middle;\n",
       "    }\n",
       "\n",
       "    .dataframe tbody tr th {\n",
       "        vertical-align: top;\n",
       "    }\n",
       "\n",
       "    .dataframe thead th {\n",
       "        text-align: right;\n",
       "    }\n",
       "</style>\n",
       "<table border=\"1\" class=\"dataframe\">\n",
       "  <thead>\n",
       "    <tr style=\"text-align: right;\">\n",
       "      <th></th>\n",
       "      <th>precision</th>\n",
       "      <th>recall</th>\n",
       "      <th>f1-score</th>\n",
       "      <th>support</th>\n",
       "    </tr>\n",
       "  </thead>\n",
       "  <tbody>\n",
       "    <tr>\n",
       "      <th>Abbreviation and Fare Code Meaning Inquiry</th>\n",
       "      <td>1.000000</td>\n",
       "      <td>0.181818</td>\n",
       "      <td>0.307692</td>\n",
       "      <td>33.000000</td>\n",
       "    </tr>\n",
       "    <tr>\n",
       "      <th>Aircraft Information Request</th>\n",
       "      <td>0.000000</td>\n",
       "      <td>0.000000</td>\n",
       "      <td>0.000000</td>\n",
       "      <td>0.000000</td>\n",
       "    </tr>\n",
       "    <tr>\n",
       "      <th>Aircraft Seating Capacity Inquiry</th>\n",
       "      <td>1.000000</td>\n",
       "      <td>0.904762</td>\n",
       "      <td>0.950000</td>\n",
       "      <td>21.000000</td>\n",
       "    </tr>\n",
       "    <tr>\n",
       "      <th>Aircraft Type Inquiry</th>\n",
       "      <td>0.692308</td>\n",
       "      <td>1.000000</td>\n",
       "      <td>0.818182</td>\n",
       "      <td>9.000000</td>\n",
       "    </tr>\n",
       "    <tr>\n",
       "      <th>Airfare Information Request</th>\n",
       "      <td>0.000000</td>\n",
       "      <td>0.000000</td>\n",
       "      <td>0.000000</td>\n",
       "      <td>0.000000</td>\n",
       "    </tr>\n",
       "    <tr>\n",
       "      <th>Airfare Information Requests</th>\n",
       "      <td>1.000000</td>\n",
       "      <td>0.041667</td>\n",
       "      <td>0.080000</td>\n",
       "      <td>48.000000</td>\n",
       "    </tr>\n",
       "    <tr>\n",
       "      <th>Airline Information Request</th>\n",
       "      <td>0.388889</td>\n",
       "      <td>0.736842</td>\n",
       "      <td>0.509091</td>\n",
       "      <td>38.000000</td>\n",
       "    </tr>\n",
       "    <tr>\n",
       "      <th>Airport Distance Inquiry</th>\n",
       "      <td>1.000000</td>\n",
       "      <td>0.900000</td>\n",
       "      <td>0.947368</td>\n",
       "      <td>10.000000</td>\n",
       "    </tr>\n",
       "    <tr>\n",
       "      <th>Airport Ground Transportation and Cost Query</th>\n",
       "      <td>0.000000</td>\n",
       "      <td>0.000000</td>\n",
       "      <td>0.000000</td>\n",
       "      <td>0.000000</td>\n",
       "    </tr>\n",
       "    <tr>\n",
       "      <th>Airport Information Request</th>\n",
       "      <td>0.000000</td>\n",
       "      <td>0.000000</td>\n",
       "      <td>0.000000</td>\n",
       "      <td>0.000000</td>\n",
       "    </tr>\n",
       "    <tr>\n",
       "      <th>Airport Information Requests</th>\n",
       "      <td>0.000000</td>\n",
       "      <td>0.000000</td>\n",
       "      <td>0.000000</td>\n",
       "      <td>0.000000</td>\n",
       "    </tr>\n",
       "    <tr>\n",
       "      <th>Airport Information and Queries</th>\n",
       "      <td>0.000000</td>\n",
       "      <td>0.000000</td>\n",
       "      <td>0.000000</td>\n",
       "      <td>18.000000</td>\n",
       "    </tr>\n",
       "    <tr>\n",
       "      <th>Airport Location Inquiry</th>\n",
       "      <td>0.120000</td>\n",
       "      <td>0.500000</td>\n",
       "      <td>0.193548</td>\n",
       "      <td>6.000000</td>\n",
       "    </tr>\n",
       "    <tr>\n",
       "      <th>Cheapest Fare Inquiry</th>\n",
       "      <td>0.000000</td>\n",
       "      <td>0.000000</td>\n",
       "      <td>0.000000</td>\n",
       "      <td>0.000000</td>\n",
       "    </tr>\n",
       "    <tr>\n",
       "      <th>Flight Booking Request</th>\n",
       "      <td>0.960613</td>\n",
       "      <td>0.694620</td>\n",
       "      <td>0.806244</td>\n",
       "      <td>632.000000</td>\n",
       "    </tr>\n",
       "    <tr>\n",
       "      <th>Flight Number Inquiry</th>\n",
       "      <td>0.242424</td>\n",
       "      <td>1.000000</td>\n",
       "      <td>0.390244</td>\n",
       "      <td>8.000000</td>\n",
       "    </tr>\n",
       "    <tr>\n",
       "      <th>Flight Quantity Inquiry</th>\n",
       "      <td>0.000000</td>\n",
       "      <td>0.000000</td>\n",
       "      <td>0.000000</td>\n",
       "      <td>3.000000</td>\n",
       "    </tr>\n",
       "    <tr>\n",
       "      <th>Flight Restriction Inquiry</th>\n",
       "      <td>0.000000</td>\n",
       "      <td>0.000000</td>\n",
       "      <td>0.000000</td>\n",
       "      <td>0.000000</td>\n",
       "    </tr>\n",
       "    <tr>\n",
       "      <th>Flight Schedule Inquiry</th>\n",
       "      <td>0.000000</td>\n",
       "      <td>0.000000</td>\n",
       "      <td>0.000000</td>\n",
       "      <td>1.000000</td>\n",
       "    </tr>\n",
       "    <tr>\n",
       "      <th>Ground Transportation Cost Inquiry</th>\n",
       "      <td>0.000000</td>\n",
       "      <td>0.000000</td>\n",
       "      <td>0.000000</td>\n",
       "      <td>7.000000</td>\n",
       "    </tr>\n",
       "    <tr>\n",
       "      <th>Ground Transportation Inquiry</th>\n",
       "      <td>0.933333</td>\n",
       "      <td>0.777778</td>\n",
       "      <td>0.848485</td>\n",
       "      <td>36.000000</td>\n",
       "    </tr>\n",
       "    <tr>\n",
       "      <th>In-flight Meals</th>\n",
       "      <td>0.000000</td>\n",
       "      <td>0.000000</td>\n",
       "      <td>0.000000</td>\n",
       "      <td>0.000000</td>\n",
       "    </tr>\n",
       "    <tr>\n",
       "      <th>Inquiry about In-flight Meals</th>\n",
       "      <td>0.625000</td>\n",
       "      <td>0.833333</td>\n",
       "      <td>0.714286</td>\n",
       "      <td>6.000000</td>\n",
       "    </tr>\n",
       "    <tr>\n",
       "      <th>accuracy</th>\n",
       "      <td>0.634703</td>\n",
       "      <td>0.634703</td>\n",
       "      <td>0.634703</td>\n",
       "      <td>0.634703</td>\n",
       "    </tr>\n",
       "    <tr>\n",
       "      <th>macro avg</th>\n",
       "      <td>0.346199</td>\n",
       "      <td>0.329166</td>\n",
       "      <td>0.285441</td>\n",
       "      <td>876.000000</td>\n",
       "    </tr>\n",
       "    <tr>\n",
       "      <th>weighted avg</th>\n",
       "      <td>0.890554</td>\n",
       "      <td>0.634703</td>\n",
       "      <td>0.706378</td>\n",
       "      <td>876.000000</td>\n",
       "    </tr>\n",
       "  </tbody>\n",
       "</table>\n",
       "</div>"
      ],
      "text/plain": [
       "                                              precision    recall  f1-score  \\\n",
       "Abbreviation and Fare Code Meaning Inquiry     1.000000  0.181818  0.307692   \n",
       "Aircraft Information Request                   0.000000  0.000000  0.000000   \n",
       "Aircraft Seating Capacity Inquiry              1.000000  0.904762  0.950000   \n",
       "Aircraft Type Inquiry                          0.692308  1.000000  0.818182   \n",
       "Airfare Information Request                    0.000000  0.000000  0.000000   \n",
       "Airfare Information Requests                   1.000000  0.041667  0.080000   \n",
       "Airline Information Request                    0.388889  0.736842  0.509091   \n",
       "Airport Distance Inquiry                       1.000000  0.900000  0.947368   \n",
       "Airport Ground Transportation and Cost Query   0.000000  0.000000  0.000000   \n",
       "Airport Information Request                    0.000000  0.000000  0.000000   \n",
       "Airport Information Requests                   0.000000  0.000000  0.000000   \n",
       "Airport Information and Queries                0.000000  0.000000  0.000000   \n",
       "Airport Location Inquiry                       0.120000  0.500000  0.193548   \n",
       "Cheapest Fare Inquiry                          0.000000  0.000000  0.000000   \n",
       "Flight Booking Request                         0.960613  0.694620  0.806244   \n",
       "Flight Number Inquiry                          0.242424  1.000000  0.390244   \n",
       "Flight Quantity Inquiry                        0.000000  0.000000  0.000000   \n",
       "Flight Restriction Inquiry                     0.000000  0.000000  0.000000   \n",
       "Flight Schedule Inquiry                        0.000000  0.000000  0.000000   \n",
       "Ground Transportation Cost Inquiry             0.000000  0.000000  0.000000   \n",
       "Ground Transportation Inquiry                  0.933333  0.777778  0.848485   \n",
       "In-flight Meals                                0.000000  0.000000  0.000000   \n",
       "Inquiry about In-flight Meals                  0.625000  0.833333  0.714286   \n",
       "accuracy                                       0.634703  0.634703  0.634703   \n",
       "macro avg                                      0.346199  0.329166  0.285441   \n",
       "weighted avg                                   0.890554  0.634703  0.706378   \n",
       "\n",
       "                                                 support  \n",
       "Abbreviation and Fare Code Meaning Inquiry     33.000000  \n",
       "Aircraft Information Request                    0.000000  \n",
       "Aircraft Seating Capacity Inquiry              21.000000  \n",
       "Aircraft Type Inquiry                           9.000000  \n",
       "Airfare Information Request                     0.000000  \n",
       "Airfare Information Requests                   48.000000  \n",
       "Airline Information Request                    38.000000  \n",
       "Airport Distance Inquiry                       10.000000  \n",
       "Airport Ground Transportation and Cost Query    0.000000  \n",
       "Airport Information Request                     0.000000  \n",
       "Airport Information Requests                    0.000000  \n",
       "Airport Information and Queries                18.000000  \n",
       "Airport Location Inquiry                        6.000000  \n",
       "Cheapest Fare Inquiry                           0.000000  \n",
       "Flight Booking Request                        632.000000  \n",
       "Flight Number Inquiry                           8.000000  \n",
       "Flight Quantity Inquiry                         3.000000  \n",
       "Flight Restriction Inquiry                      0.000000  \n",
       "Flight Schedule Inquiry                         1.000000  \n",
       "Ground Transportation Cost Inquiry              7.000000  \n",
       "Ground Transportation Inquiry                  36.000000  \n",
       "In-flight Meals                                 0.000000  \n",
       "Inquiry about In-flight Meals                   6.000000  \n",
       "accuracy                                        0.634703  \n",
       "macro avg                                     876.000000  \n",
       "weighted avg                                  876.000000  "
      ]
     },
     "execution_count": 28,
     "metadata": {},
     "output_type": "execute_result"
    }
   ],
   "source": [
    "from sklearn.metrics import classification_report\n",
    "y = [r[\"y\"] for r in results]\n",
    "predictions = [r[\"prediction\"].replace(\"Class name: \",\"\") for r in results]\n",
    "pd.DataFrame(classification_report(y, predictions, output_dict=True)).T"
   ]
  }
 ],
 "metadata": {
  "kernelspec": {
   "display_name": "Python 3 (ipykernel)",
   "language": "python",
   "name": "python3"
  },
  "language_info": {
   "codemirror_mode": {
    "name": "ipython",
    "version": 3
   },
   "file_extension": ".py",
   "mimetype": "text/x-python",
   "name": "python",
   "nbconvert_exporter": "python",
   "pygments_lexer": "ipython3",
   "version": "3.10.12"
  }
 },
 "nbformat": 4,
 "nbformat_minor": 5
}
