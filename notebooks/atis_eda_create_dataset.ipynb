{
 "cells": [
  {
   "cell_type": "code",
   "execution_count": 1,
   "id": "e729fc22-9326-4f86-afaa-06742c0a9396",
   "metadata": {},
   "outputs": [],
   "source": [
    "import transformers\n",
    "import pandas as pd\n",
    "\n",
    "from datasets import load_dataset\n",
    "\n",
    "\n",
    "dataset = load_dataset(\"tuetschek/atis\")"
   ]
  },
  {
   "cell_type": "code",
   "execution_count": 2,
   "id": "6fcbf3f5-1d59-4bce-8fea-aae95776eb46",
   "metadata": {},
   "outputs": [
    {
     "data": {
      "text/plain": [
       "{'abbreviation',\n",
       " 'aircraft',\n",
       " 'aircraft+flight+flight_no',\n",
       " 'airfare',\n",
       " 'airfare+flight_time',\n",
       " 'airline',\n",
       " 'airline+flight_no',\n",
       " 'airport',\n",
       " 'capacity',\n",
       " 'cheapest',\n",
       " 'city',\n",
       " 'distance',\n",
       " 'flight',\n",
       " 'flight+airfare',\n",
       " 'flight_no',\n",
       " 'flight_time',\n",
       " 'ground_fare',\n",
       " 'ground_service',\n",
       " 'ground_service+ground_fare',\n",
       " 'meal',\n",
       " 'quantity',\n",
       " 'restriction'}"
      ]
     },
     "execution_count": 2,
     "metadata": {},
     "output_type": "execute_result"
    }
   ],
   "source": [
    "intents = set([row[\"intent\"] for row in dataset[\"train\"]])\n",
    "intents\n"
   ]
  },
  {
   "cell_type": "code",
   "execution_count": 9,
   "id": "1bbca304-1e49-4c3a-85e3-3367b650e59f",
   "metadata": {},
   "outputs": [
    {
     "data": {
      "text/plain": [
       "{'abbreviation': 'Abbreviation and Fare Code Meaning Inquiry',\n",
       " 'aircraft': 'Aircraft Type Inquiry',\n",
       " 'airfare': 'Airfare Information Requests',\n",
       " 'airline': 'Airline Information Request',\n",
       " 'airport': 'Airport Information and Queries',\n",
       " 'capacity': 'Aircraft Seating Capacity Inquiry',\n",
       " 'cheapest': 'Cheapest Fare Inquiry',\n",
       " 'city': 'Airport Location Inquiry',\n",
       " 'distance': 'Airport Distance Inquiry',\n",
       " 'flight': 'Flight Booking Request',\n",
       " 'flight_no': 'Flight Number Inquiry',\n",
       " 'flight_time': 'Flight Schedule Inquiry',\n",
       " 'ground_fare': 'Ground Transportation Cost Inquiry',\n",
       " 'ground_service': 'Ground Transportation Inquiry',\n",
       " 'ground_service+ground_fare': 'Airport Ground Transportation and Cost Query',\n",
       " 'meal': 'Inquiry about In-flight Meals',\n",
       " 'quantity': 'Flight Quantity Inquiry',\n",
       " 'restriction': 'Flight Restriction Inquiry'}"
      ]
     },
     "execution_count": 9,
     "metadata": {},
     "output_type": "execute_result"
    }
   ],
   "source": [
    "from app.atis.utils import ATIS_INTENT_MAPPING as intent_mapping\n",
    "intent_mapping"
   ]
  },
  {
   "cell_type": "code",
   "execution_count": 10,
   "id": "889e54ee-c09b-4721-aa06-084b782a1473",
   "metadata": {},
   "outputs": [],
   "source": [
    "results = []\n",
    "for row in dataset[\"train\"]:\n",
    "    if row[\"intent\"] not in intent_mapping:\n",
    "        continue\n",
    "    results.append({\"id\": row[\"id\"], \"intent\": intent_mapping[row[\"intent\"]], \"text\": row[\"text\"]})"
   ]
  },
  {
   "cell_type": "code",
   "execution_count": 11,
   "id": "9254e951-d29b-4dd2-bd42-874816569040",
   "metadata": {},
   "outputs": [
    {
     "data": {
      "text/plain": [
       "intent\n",
       "Flight Booking Request                          3666\n",
       "Airfare Information Requests                     423\n",
       "Ground Transportation Inquiry                    255\n",
       "Airline Information Request                      157\n",
       "Abbreviation and Fare Code Meaning Inquiry       147\n",
       "Aircraft Type Inquiry                             81\n",
       "Flight Schedule Inquiry                           54\n",
       "Flight Quantity Inquiry                           51\n",
       "Airport Information and Queries                   20\n",
       "Airport Distance Inquiry                          20\n",
       "Airport Location Inquiry                          19\n",
       "Ground Transportation Cost Inquiry                18\n",
       "Aircraft Seating Capacity Inquiry                 16\n",
       "Flight Number Inquiry                             12\n",
       "Inquiry about In-flight Meals                      6\n",
       "Flight Restriction Inquiry                         6\n",
       "Airport Ground Transportation and Cost Query       1\n",
       "Cheapest Fare Inquiry                              1\n",
       "Name: count, dtype: int64"
      ]
     },
     "execution_count": 11,
     "metadata": {},
     "output_type": "execute_result"
    }
   ],
   "source": [
    "df = pd.DataFrame(results)\n",
    "df[\"intent\"].value_counts()"
   ]
  },
  {
   "cell_type": "code",
   "execution_count": 36,
   "id": "a5d36a1f-bbe2-4a23-9316-dc4988d0f5d0",
   "metadata": {},
   "outputs": [
    {
     "data": {
      "text/plain": [
       "221"
      ]
     },
     "execution_count": 36,
     "metadata": {},
     "output_type": "execute_result"
    }
   ],
   "source": [
    "# sample 15 \n",
    "all_classes_df = pd.DataFrame()\n",
    "intents = df[\"intent\"].unique().tolist()\n",
    "sample_size = 15\n",
    "for intent in intents:\n",
    "    intent_df = df[df[\"intent\"] == intent]\n",
    "    curr_min_sample_size = min(intent_df.shape[0], sample_size)\n",
    "    sampled_df = intent_df.sample(curr_min_sample_size)\n",
    "    all_classes_df = pd.concat([all_classes_df, sampled_df])\n",
    "\n",
    "all_classes_df.shape[0]"
   ]
  },
  {
   "cell_type": "code",
   "execution_count": 16,
   "id": "aa6d9693-c826-44ea-9b4f-24328e36d310",
   "metadata": {},
   "outputs": [
    {
     "data": {
      "text/plain": [
       "id                                                      449\n",
       "intent                               Flight Booking Request\n",
       "text      show me flights from denver to atlanta on june...\n",
       "Name: 449, dtype: object"
      ]
     },
     "execution_count": 16,
     "metadata": {},
     "output_type": "execute_result"
    }
   ],
   "source": [
    "all_classes_df.iloc[0]"
   ]
  },
  {
   "cell_type": "code",
   "execution_count": 30,
   "id": "4d6abdae-6e44-4aa3-9ac8-25bf09078b95",
   "metadata": {},
   "outputs": [
    {
     "data": {
      "text/plain": [
       "{'Abbreviation and Fare Code Meaning Inquiry': 1,\n",
       " 'Aircraft Seating Capacity Inquiry': 2,\n",
       " 'Aircraft Type Inquiry': 3,\n",
       " 'Airfare Information Requests': 4,\n",
       " 'Airline Information Request': 5,\n",
       " 'Airport Distance Inquiry': 6,\n",
       " 'Airport Ground Transportation and Cost Query': 7,\n",
       " 'Airport Information and Queries': 8,\n",
       " 'Airport Location Inquiry': 9,\n",
       " 'Cheapest Fare Inquiry': 10,\n",
       " 'Flight Booking Request': 11,\n",
       " 'Flight Number Inquiry': 12,\n",
       " 'Flight Quantity Inquiry': 13,\n",
       " 'Flight Restriction Inquiry': 14,\n",
       " 'Flight Schedule Inquiry': 15,\n",
       " 'Ground Transportation Cost Inquiry': 16,\n",
       " 'Ground Transportation Inquiry': 17,\n",
       " 'Inquiry about In-flight Meals': 18}"
      ]
     },
     "execution_count": 30,
     "metadata": {},
     "output_type": "execute_result"
    }
   ],
   "source": [
    "# sort labels alphanumerically \n",
    "sorted_list = all_classes_df[\"intent\"].unique().tolist()\n",
    "sorted_list.sort()\n",
    "sorted_list\n",
    "label_to_int = {sorted_list[i]:i+1 for i in range(len(sorted_list))}\n",
    "label_to_int"
   ]
  },
  {
   "cell_type": "code",
   "execution_count": 43,
   "id": "7f614dad-c0ea-4409-b2d7-271f62ba5300",
   "metadata": {},
   "outputs": [
    {
     "name": "stdout",
     "output_type": "stream",
     "text": [
      "all classes df size: (221, 3)\n"
     ]
    },
    {
     "data": {
      "text/plain": [
       "221"
      ]
     },
     "execution_count": 43,
     "metadata": {},
     "output_type": "execute_result"
    }
   ],
   "source": [
    "intent_classification_dataset = {\"Company Name\": \"Atis Arilines\", \"Taxonomy\": {}}\n",
    "examples = []\n",
    "print(f\"all classes df size: {all_classes_df.shape}\")\n",
    "for class_name, class_index in label_to_int.items():\n",
    "    curr_df = all_classes_df[all_classes_df[\"intent\"] == class_name]\n",
    "    for index, row in curr_df.iterrows():\n",
    "        examples.append({\n",
    "            \"sample_text\": row[\"text\"],\n",
    "            \"class\": class_name,\n",
    "            \"class number\": class_index\n",
    "        })\n",
    "intent_classification_dataset[\"Examples\"] = examples\n",
    "len(examples)\n",
    "# intent_classification_dataste[\"Examples\"]"
   ]
  },
  {
   "cell_type": "code",
   "execution_count": 44,
   "id": "7d26bf18-4862-47ed-9670-37d91f410481",
   "metadata": {},
   "outputs": [],
   "source": [
    "import json\n",
    "with open('data/atis_train_sample_dataset.json', 'w') as fp:\n",
    "    json.dump(intent_classification_dataset, fp)"
   ]
  }
 ],
 "metadata": {
  "kernelspec": {
   "display_name": "Python 3 (ipykernel)",
   "language": "python",
   "name": "python3"
  },
  "language_info": {
   "codemirror_mode": {
    "name": "ipython",
    "version": 3
   },
   "file_extension": ".py",
   "mimetype": "text/x-python",
   "name": "python",
   "nbconvert_exporter": "python",
   "pygments_lexer": "ipython3",
   "version": "3.10.12"
  }
 },
 "nbformat": 4,
 "nbformat_minor": 5
}
